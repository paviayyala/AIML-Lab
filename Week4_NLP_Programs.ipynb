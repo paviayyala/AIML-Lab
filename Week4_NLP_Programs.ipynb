{
  "cells": [
    {
      "cell_type": "markdown",
      "metadata": {
        "id": "view-in-github",
        "colab_type": "text"
      },
      "source": [
        "<a href=\"https://colab.research.google.com/github/paviayyala/AIML-Lab/blob/main/Week4_NLP_Programs.ipynb\" target=\"_parent\"><img src=\"https://colab.research.google.com/assets/colab-badge.svg\" alt=\"Open In Colab\"/></a>"
      ]
    },
    {
      "cell_type": "markdown",
      "id": "bda36c84",
      "metadata": {
        "id": "bda36c84"
      },
      "source": [
        "\n",
        "# Week 4 — NLP Basics (Google Colab Notebook)\n",
        "Hands-on programs with **clear comments** that connect to Week 3 (DL) and Week 1–2 (Stats & ML).\n",
        "\n",
        "**What you'll learn this week:**\n",
        "- Day 16: **Text Preprocessing** (tokenization, stopwords, BoW/TF-IDF) + top words\n",
        "- Day 17: **Naïve Bayes Text Classification** (simple corpus)\n",
        "- Day 18: **Logistic Regression for Sentiment** (tiny custom dataset)\n",
        "- Day 19: **RNN/LSTM Language Modeling** (character-level next-char)\n",
        "- Day 20: **Mini Project** (TF-IDF + Logistic Regression pipeline)\n"
      ]
    },
    {
      "cell_type": "code",
      "execution_count": null,
      "id": "49c471b2",
      "metadata": {
        "colab": {
          "base_uri": "https://localhost:8080/"
        },
        "id": "49c471b2",
        "outputId": "85c7b4eb-f480-4cf6-d86e-6672a88e07a5"
      },
      "outputs": [
        {
          "output_type": "stream",
          "name": "stdout",
          "text": [
            "TensorFlow version: 2.19.0\n"
          ]
        }
      ],
      "source": [
        "\n",
        "import numpy as np\n",
        "import pandas as pd\n",
        "import matplotlib.pyplot as plt\n",
        "\n",
        "import re\n",
        "from collections import Counter\n",
        "\n",
        "# Sklearn\n",
        "from sklearn.feature_extraction.text import CountVectorizer, TfidfVectorizer\n",
        "from sklearn.model_selection import train_test_split\n",
        "from sklearn.naive_bayes import MultinomialNB\n",
        "from sklearn.linear_model import LogisticRegression\n",
        "from sklearn.metrics import accuracy_score, classification_report, confusion_matrix\n",
        "\n",
        "# TensorFlow/Keras for Day 19\n",
        "import tensorflow as tf\n",
        "from tensorflow import keras\n",
        "from tensorflow.keras import layers\n",
        "\n",
        "print(\"TensorFlow version:\", tf.__version__)\n"
      ]
    },
    {
      "cell_type": "markdown",
      "id": "f0f23b44",
      "metadata": {
        "id": "f0f23b44"
      },
      "source": [
        "\n",
        "## Day 16 — Text Preprocessing (Tokenization, Stopwords, BoW/TF-IDF)\n",
        "We create a small corpus, clean it, and build **Bag-of-Words** and **TF-IDF** matrices. Then we show **top words**.\n"
      ]
    },
    {
      "cell_type": "code",
      "execution_count": null,
      "id": "7615404f",
      "metadata": {
        "colab": {
          "base_uri": "https://localhost:8080/",
          "height": 546
        },
        "id": "7615404f",
        "outputId": "a22ead2b-2868-4c90-a449-678f84566e56"
      },
      "outputs": [
        {
          "output_type": "stream",
          "name": "stdout",
          "text": [
            "Cleaned samples: ['i loved the new phone the camera is great and battery lasts long', 'this phone is terrible battery died in a day and camera is poor']\n",
            "BoW shape: (5, 25)\n",
            "TF-IDF shape: (5, 25)\n"
          ]
        },
        {
          "output_type": "display_data",
          "data": {
            "text/plain": [
              "<Figure size 640x480 with 1 Axes>"
            ],
            "image/png": "[encoded data removed]"
          },
          "metadata": {}
        }
      ],
      "source": [
        "\n",
        "# --- Day 16: Preprocessing ---\n",
        "corpus = [\n",
        "    \"I loved the new phone, the camera is great and battery lasts long\",\n",
        "    \"This phone is terrible, battery died in a day and camera is poor\",\n",
        "    \"Amazing performance and smooth screen; highly recommend this\",\n",
        "    \"Not worth the price, very slow and the screen is dull\",\n",
        "    \"Battery life is excellent and the camera quality is amazing\",\n",
        "]\n",
        "\n",
        "# Simple cleaner: lowercase and keep words\n",
        "def simple_clean(text):\n",
        "    text = text.lower()\n",
        "    text = re.sub(r\"[^a-z\\s]\", \"\", text)\n",
        "    text = re.sub(r\"\\s+\", \" \", text).strip()\n",
        "    return text\n",
        "\n",
        "cleaned = [simple_clean(t) for t in corpus]\n",
        "print(\"Cleaned samples:\", cleaned[:2])\n",
        "\n",
        "# Bag-of-Words\n",
        "cv = CountVectorizer(stop_words='english')\n",
        "bow = cv.fit_transform(cleaned)\n",
        "print(\"BoW shape:\", bow.shape)\n",
        "\n",
        "# TF-IDF\n",
        "tfidf = TfidfVectorizer(stop_words='english')\n",
        "tfidf_mat = tfidf.fit_transform(cleaned)\n",
        "print(\"TF-IDF shape:\", tfidf_mat.shape)\n",
        "\n",
        "# Top words by raw frequency\n",
        "all_tokens = \" \".join(cleaned).split()\n",
        "freqs = Counter(all_tokens)\n",
        "top = freqs.most_common(10)\n",
        "words, counts = zip(*top)\n",
        "\n",
        "plt.figure()\n",
        "plt.bar(range(len(words)), counts)\n",
        "plt.title(\"Top Word Frequencies (Simple Corpus)\")\n",
        "plt.xlabel(\"Word Index\")\n",
        "plt.ylabel(\"Count\")\n",
        "plt.show()\n"
      ]
    },
    {
      "cell_type": "markdown",
      "id": "ea7f2d27",
      "metadata": {
        "id": "ea7f2d27"
      },
      "source": [
        "\n",
        "## Day 17 — Naïve Bayes Text Classification (Tiny Corpus)\n",
        "We label the corpus as **positive/negative** and train **MultinomialNB**.\n"
      ]
    },
    {
      "cell_type": "code",
      "execution_count": null,
      "id": "a88e5a90",
      "metadata": {
        "colab": {
          "base_uri": "https://localhost:8080/"
        },
        "id": "a88e5a90",
        "outputId": "292a0502-d878-4b28-9445-80e1298c0166"
      },
      "outputs": [
        {
          "output_type": "stream",
          "name": "stdout",
          "text": [
            "Accuracy: 0.5\n",
            "Confusion Matrix:\n",
            " [[0 1]\n",
            " [0 1]]\n",
            "\n",
            "Classification Report:\n",
            "               precision    recall  f1-score   support\n",
            "\n",
            "           0       0.00      0.00      0.00         1\n",
            "           1       0.50      1.00      0.67         1\n",
            "\n",
            "    accuracy                           0.50         2\n",
            "   macro avg       0.25      0.50      0.33         2\n",
            "weighted avg       0.25      0.50      0.33         2\n",
            "\n"
          ]
        },
        {
          "output_type": "stream",
          "name": "stderr",
          "text": [
            "/usr/local/lib/python3.12/dist-packages/sklearn/metrics/_classification.py:1565: UndefinedMetricWarning: Precision is ill-defined and being set to 0.0 in labels with no predicted samples. Use `zero_division` parameter to control this behavior.\n",
            "  _warn_prf(average, modifier, f\"{metric.capitalize()} is\", len(result))\n",
            "/usr/local/lib/python3.12/dist-packages/sklearn/metrics/_classification.py:1565: UndefinedMetricWarning: Precision is ill-defined and being set to 0.0 in labels with no predicted samples. Use `zero_division` parameter to control this behavior.\n",
            "  _warn_prf(average, modifier, f\"{metric.capitalize()} is\", len(result))\n",
            "/usr/local/lib/python3.12/dist-packages/sklearn/metrics/_classification.py:1565: UndefinedMetricWarning: Precision is ill-defined and being set to 0.0 in labels with no predicted samples. Use `zero_division` parameter to control this behavior.\n",
            "  _warn_prf(average, modifier, f\"{metric.capitalize()} is\", len(result))\n"
          ]
        }
      ],
      "source": [
        "\n",
        "# --- Day 17: Naïve Bayes Text Classification ---\n",
        "labels = np.array([1, 0, 1, 0, 1])  # 1=positive, 0=negative\n",
        "\n",
        "X_train, X_test, y_train, y_test = train_test_split(cleaned, labels, test_size=0.4, random_state=0, stratify=labels)\n",
        "\n",
        "vec = TfidfVectorizer(stop_words='english', ngram_range=(1,2))\n",
        "Xtr = vec.fit_transform(X_train)\n",
        "Xte = vec.transform(X_test)\n",
        "\n",
        "nb = MultinomialNB()\n",
        "nb.fit(Xtr, y_train)\n",
        "pred = nb.predict(Xte)\n",
        "\n",
        "print(\"Accuracy:\", round(accuracy_score(y_test, pred), 3))\n",
        "print(\"Confusion Matrix:\\n\", confusion_matrix(y_test, pred))\n",
        "print(\"\\nClassification Report:\\n\", classification_report(y_test, pred))\n"
      ]
    },
    {
      "cell_type": "markdown",
      "id": "2bc04fe7",
      "metadata": {
        "id": "2bc04fe7"
      },
      "source": [
        "\n",
        "## Day 18 — Logistic Regression for Sentiment (Custom Dataset)\n",
        "We create a slightly larger **synthetic review dataset** and train **Logistic Regression**.\n"
      ]
    },
    {
      "cell_type": "code",
      "execution_count": null,
      "id": "18c0c66a",
      "metadata": {
        "colab": {
          "base_uri": "https://localhost:8080/"
        },
        "id": "18c0c66a",
        "outputId": "1827c140-6be0-47e5-a920-0624ee3d8852"
      },
      "outputs": [
        {
          "output_type": "stream",
          "name": "stdout",
          "text": [
            "Accuracy: 0.333\n",
            "Confusion Matrix:\n",
            " [[0 2]\n",
            " [0 1]]\n",
            "\n",
            "Classification Report:\n",
            "               precision    recall  f1-score   support\n",
            "\n",
            "           0       0.00      0.00      0.00         2\n",
            "           1       0.33      1.00      0.50         1\n",
            "\n",
            "    accuracy                           0.33         3\n",
            "   macro avg       0.17      0.50      0.25         3\n",
            "weighted avg       0.11      0.33      0.17         3\n",
            "\n"
          ]
        },
        {
          "output_type": "stream",
          "name": "stderr",
          "text": [
            "/usr/local/lib/python3.12/dist-packages/sklearn/metrics/_classification.py:1565: UndefinedMetricWarning: Precision is ill-defined and being set to 0.0 in labels with no predicted samples. Use `zero_division` parameter to control this behavior.\n",
            "  _warn_prf(average, modifier, f\"{metric.capitalize()} is\", len(result))\n",
            "/usr/local/lib/python3.12/dist-packages/sklearn/metrics/_classification.py:1565: UndefinedMetricWarning: Precision is ill-defined and being set to 0.0 in labels with no predicted samples. Use `zero_division` parameter to control this behavior.\n",
            "  _warn_prf(average, modifier, f\"{metric.capitalize()} is\", len(result))\n",
            "/usr/local/lib/python3.12/dist-packages/sklearn/metrics/_classification.py:1565: UndefinedMetricWarning: Precision is ill-defined and being set to 0.0 in labels with no predicted samples. Use `zero_division` parameter to control this behavior.\n",
            "  _warn_prf(average, modifier, f\"{metric.capitalize()} is\", len(result))\n"
          ]
        }
      ],
      "source": [
        "\n",
        "# --- Day 18: Logistic Regression for Sentiment ---\n",
        "pos_reviews = [\n",
        "    \"Loved it amazing camera and long battery life\",\n",
        "    \"Great phone smooth screen and fast performance\",\n",
        "    \"Excellent quality totally worth it\",\n",
        "    \"Highly recommend this product\",\n",
        "    \"Good value for the price\"\n",
        "]\n",
        "\n",
        "neg_reviews = [\n",
        "    \"Hated it camera is bad and battery dies quickly\",\n",
        "    \"Terrible phone slow and laggy not worth the price\",\n",
        "    \"Poor quality and bad experience\",\n",
        "    \"Do not recommend screen is dull\",\n",
        "    \"Waste of money\"\n",
        "]\n",
        "\n",
        "texts = [simple_clean(t) for t in (pos_reviews + neg_reviews)]\n",
        "y = np.array([1]*len(pos_reviews) + [0]*len(neg_reviews))\n",
        "\n",
        "X_train, X_test, y_train, y_test = train_test_split(texts, y, test_size=0.3, random_state=42, stratify=y)\n",
        "\n",
        "vec = TfidfVectorizer(stop_words='english', ngram_range=(1,2), min_df=1)\n",
        "Xtr = vec.fit_transform(X_train)\n",
        "Xte = vec.transform(X_test)\n",
        "\n",
        "clf = LogisticRegression(max_iter=1000)\n",
        "clf.fit(Xtr, y_train)\n",
        "pred = clf.predict(Xte)\n",
        "\n",
        "print(\"Accuracy:\", round(accuracy_score(y_test, pred), 3))\n",
        "print(\"Confusion Matrix:\\n\", confusion_matrix(y_test, pred))\n",
        "print(\"\\nClassification Report:\\n\", classification_report(y_test, pred))\n"
      ]
    },
    {
      "cell_type": "markdown",
      "id": "4224ed57",
      "metadata": {
        "id": "4224ed57"
      },
      "source": [
        "\n",
        "## Day 19 — RNN/LSTM Language Modeling (Character-Level)\n",
        "We train a **character-level LSTM** to predict the **next character** in a short text.\n"
      ]
    },
    {
      "cell_type": "code",
      "execution_count": null,
      "id": "fbbe2749",
      "metadata": {
        "colab": {
          "base_uri": "https://localhost:8080/",
          "height": 544
        },
        "id": "fbbe2749",
        "outputId": "01724b10-4d83-428b-a907-77ff86262b5e"
      },
      "outputs": [
        {
          "output_type": "display_data",
          "data": {
            "text/plain": [
              "<Figure size 640x480 with 1 Axes>"
            ],
            "image/png": "[encoded data removed]"
          },
          "metadata": {}
        },
        {
          "output_type": "stream",
          "name": "stdout",
          "text": [
            "Generated Text:\n",
            " twinkle twinkle littpiytmpabmhb\n",
            "  osaluboawnduhvsvyiwwuyed\n",
            "rgnsgyamvmttnanesbepy\n"
          ]
        }
      ],
      "source": [
        "\n",
        "# --- Day 19: Char-level LSTM ---\n",
        "text = \"\"\"twinkle twinkle little star how i wonder what you are\n",
        "up above the world so high like a diamond in the sky\n",
        "twinkle twinkle little star how i wonder what you are\"\"\"\n",
        "\n",
        "# Build vocabulary and mapping\n",
        "chars = sorted(list(set(text)))\n",
        "char2idx = {c:i for i,c in enumerate(chars)}\n",
        "idx2char = {i:c for c,i in char2idx.items()}\n",
        "seq_len = 20\n",
        "\n",
        "# Prepare data\n",
        "X, y = [], []\n",
        "for i in range(len(text)-seq_len):\n",
        "    X.append([char2idx[c] for c in text[i:i+seq_len]])\n",
        "    y.append(char2idx[text[i+seq_len]])\n",
        "X = np.array(X)\n",
        "y = np.array(y)\n",
        "\n",
        "# Train/test split\n",
        "split = int(0.9*len(X))\n",
        "X_train, X_test = X[:split], X[split:]\n",
        "y_train, y_test = y[:split], y[split:]\n",
        "\n",
        "# One-hot encode\n",
        "vocab_size = len(chars)\n",
        "X_train_oh = keras.utils.to_categorical(X_train, num_classes=vocab_size)\n",
        "X_test_oh = keras.utils.to_categorical(X_test, num_classes=vocab_size)\n",
        "y_train_oh = keras.utils.to_categorical(y_train, num_classes=vocab_size)\n",
        "y_test_oh = keras.utils.to_categorical(y_test, num_classes=vocab_size)\n",
        "\n",
        "model = keras.Sequential([\n",
        "    layers.Input(shape=(seq_len, vocab_size)),\n",
        "    layers.LSTM(64),\n",
        "    layers.Dense(vocab_size, activation='softmax')\n",
        "])\n",
        "model.compile(optimizer='adam', loss='categorical_crossentropy')\n",
        "hist = model.fit(X_train_oh, y_train_oh, epochs=5, batch_size=64, validation_split=0.1, verbose=0)\n",
        "\n",
        "# Plot training loss (single chart)\n",
        "plt.figure()\n",
        "plt.plot(hist.history['loss'])\n",
        "plt.title(\"Char-LSTM Training Loss\")\n",
        "plt.xlabel(\"Epoch\")\n",
        "plt.ylabel(\"Loss\")\n",
        "plt.show()\n",
        "\n",
        "# Simple generation\n",
        "def sample_next(preds, temperature=1.0):\n",
        "    preds = np.asarray(preds).astype('float64')\n",
        "    preds = np.log(preds + 1e-8) / temperature\n",
        "    exp_preds = np.exp(preds)\n",
        "    preds = exp_preds / np.sum(exp_preds)\n",
        "    return np.random.choice(range(len(preds)), p=preds)\n",
        "\n",
        "seed = \"twinkle twinkle litt\"\n",
        "seed_seq = [char2idx[c] for c in seed]\n",
        "generated = seed\n",
        "\n",
        "for _ in range(60):\n",
        "    x_seed = keras.utils.to_categorical([seed_seq[-seq_len:]], num_classes=vocab_size)\n",
        "    preds = model.predict(x_seed, verbose=0)[0]\n",
        "    next_idx = sample_next(preds, temperature=0.7)\n",
        "    generated += idx2char[next_idx]\n",
        "    seed_seq.append(next_idx)\n",
        "\n",
        "print(\"Generated Text:\\n\", generated)\n"
      ]
    },
    {
      "cell_type": "markdown",
      "id": "42da64ff",
      "metadata": {
        "id": "42da64ff"
      },
      "source": [
        "\n",
        "## Day 20 — Mini Project: Sentiment Pipeline\n",
        "We build a small **NLP pipeline**: TF-IDF → Logistic Regression → Evaluation.  \n",
        "Students can swap the dataset with their own CSV later.\n"
      ]
    },
    {
      "cell_type": "code",
      "execution_count": null,
      "id": "8ebd60ba",
      "metadata": {
        "colab": {
          "base_uri": "https://localhost:8080/",
          "height": 869
        },
        "id": "8ebd60ba",
        "outputId": "709dd58b-f038-4464-c85a-b7c5558e1342"
      },
      "outputs": [
        {
          "output_type": "stream",
          "name": "stdout",
          "text": [
            "Accuracy: 0.333\n",
            "Confusion Matrix:\n",
            " [[0 2]\n",
            " [0 1]]\n",
            "\n",
            "Classification Report:\n",
            "               precision    recall  f1-score   support\n",
            "\n",
            "           0       0.00      0.00      0.00         2\n",
            "           1       0.33      1.00      0.50         1\n",
            "\n",
            "    accuracy                           0.33         3\n",
            "   macro avg       0.17      0.50      0.25         3\n",
            "weighted avg       0.11      0.33      0.17         3\n",
            "\n"
          ]
        },
        {
          "output_type": "stream",
          "name": "stderr",
          "text": [
            "/usr/local/lib/python3.12/dist-packages/sklearn/metrics/_classification.py:1565: UndefinedMetricWarning: Precision is ill-defined and being set to 0.0 in labels with no predicted samples. Use `zero_division` parameter to control this behavior.\n",
            "  _warn_prf(average, modifier, f\"{metric.capitalize()} is\", len(result))\n",
            "/usr/local/lib/python3.12/dist-packages/sklearn/metrics/_classification.py:1565: UndefinedMetricWarning: Precision is ill-defined and being set to 0.0 in labels with no predicted samples. Use `zero_division` parameter to control this behavior.\n",
            "  _warn_prf(average, modifier, f\"{metric.capitalize()} is\", len(result))\n",
            "/usr/local/lib/python3.12/dist-packages/sklearn/metrics/_classification.py:1565: UndefinedMetricWarning: Precision is ill-defined and being set to 0.0 in labels with no predicted samples. Use `zero_division` parameter to control this behavior.\n",
            "  _warn_prf(average, modifier, f\"{metric.capitalize()} is\", len(result))\n"
          ]
        },
        {
          "output_type": "display_data",
          "data": {
            "text/plain": [
              "<Figure size 640x480 with 1 Axes>"
            ],
            "image/png": "[encoded data removed]"
          },
          "metadata": {}
        }
      ],
      "source": [
        "\n",
        "# --- Day 20: Sentiment Pipeline (Mini Project) ---\n",
        "data = {\n",
        "    \"text\": [\n",
        "        \"Amazing camera and excellent battery life\",\n",
        "        \"Very poor quality and slow performance\",\n",
        "        \"Great value for money highly recommend\",\n",
        "        \"Not worth it screen is dull and laggy\",\n",
        "        \"Love this phone super fast and smooth\",\n",
        "        \"Worst device ever waste of money\",\n",
        "        \"Battery lasts long and the photos are sharp\",\n",
        "        \"Terrible support and buggy software\",\n",
        "        \"Fantastic experience would buy again\",\n",
        "        \"Disappointed with the camera and speed\"\n",
        "    ],\n",
        "    \"label\": [1,0,1,0,1,0,1,0,1,0]\n",
        "}\n",
        "df = pd.DataFrame(data)\n",
        "df['text_clean'] = df['text'].str.lower()\n",
        "\n",
        "X_train, X_test, y_train, y_test = train_test_split(df['text_clean'], df['label'], test_size=0.3, random_state=0, stratify=df['label'])\n",
        "\n",
        "vec = TfidfVectorizer(stop_words='english', ngram_range=(1,2))\n",
        "Xtr = vec.fit_transform(X_train)\n",
        "Xte = vec.transform(X_test)\n",
        "\n",
        "clf = LogisticRegression(max_iter=1000)\n",
        "clf.fit(Xtr, y_train)\n",
        "pred = clf.predict(Xte)\n",
        "\n",
        "print(\"Accuracy:\", round(accuracy_score(y_test, pred), 3))\n",
        "print(\"Confusion Matrix:\\n\", confusion_matrix(y_test, pred))\n",
        "print(\"\\nClassification Report:\\n\", classification_report(y_test, pred))\n",
        "\n",
        "# Show top features by coefficient magnitude\n",
        "coefs = clf.coef_[0]\n",
        "feature_names = np.array(vec.get_feature_names_out())\n",
        "top_idx = np.argsort(np.abs(coefs))[-10:]\n",
        "top_features = feature_names[top_idx]\n",
        "top_values = coefs[top_idx]\n",
        "\n",
        "plt.figure()\n",
        "plt.bar(range(len(top_features)), np.abs(top_values))\n",
        "plt.title(\"Top Feature Weights (Absolute)\")\n",
        "plt.xlabel(\"Feature Index\")\n",
        "plt.ylabel(\"Weight Magnitude\")\n",
        "plt.show()\n"
      ]
    },
    {
      "cell_type": "markdown",
      "id": "5ca91022",
      "metadata": {
        "id": "5ca91022"
      },
      "source": [
        "\n",
        "---\n",
        "### Practice Exercises\n",
        "1. **Day 16:** Switch to `ngram_range=(1,3)` in TF-IDF. Do top words change?\n",
        "2. **Day 17:** Add 5 more custom reviews to balance classes. Does accuracy improve?\n",
        "3. **Day 18:** Try `C=0.5` in Logistic Regression. How do metrics change?\n",
        "4. **Day 19:** Increase epochs to 10 and test temperatures 0.5 vs 1.0 in generation.\n",
        "5. **Day 20:** Add StopWord filtering and compare accuracy.\n",
        "\n",
        "*Generated on:* 2025-10-02 11:14:16\n"
      ]
    }
  ],
  "metadata": {
    "colab": {
      "provenance": [],
      "include_colab_link": true
    },
    "kernelspec": {
      "display_name": "Python 3",
      "language": "python",
      "name": "python3"
    }
  },
  "nbformat": 4,
  "nbformat_minor": 5
}