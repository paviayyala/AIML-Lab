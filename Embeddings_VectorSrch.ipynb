{
  "nbformat": 4,
  "nbformat_minor": 0,
  "metadata": {
    "colab": {
      "provenance": [],
      "authorship_tag": "ABX9TyOR73QtjUlDa5hZe76jYrcu",
      "include_colab_link": true
    },
    "kernelspec": {
      "name": "python3",
      "display_name": "Python 3"
    },
    "language_info": {
      "name": "python"
    }
  },
  "cells": [
    {
      "cell_type": "markdown",
      "metadata": {
        "id": "view-in-github",
        "colab_type": "text"
      },
      "source": [
        "<a href=\"https://colab.research.google.com/github/paviayyala/AIML-Lab/blob/main/Embeddings_VectorSrch.ipynb\" target=\"_parent\"><img src=\"https://colab.research.google.com/assets/colab-badge.svg\" alt=\"Open In Colab\"/></a>"
      ]
    },
    {
      "cell_type": "code",
      "execution_count": 2,
      "metadata": {
        "colab": {
          "base_uri": "https://localhost:8080/"
        },
        "id": "QrBtn4HoavyD",
        "outputId": "4392a854-67e7-42a8-f791-52c95897767f"
      },
      "outputs": [
        {
          "output_type": "stream",
          "name": "stdout",
          "text": [
            "\n",
            "Ticket 1: My laptop won't turn on after the latest update.\n",
            "Embedding (first 5 dimensions): [-0.04204226 -0.01871645  0.01252084 -0.01471921  0.06840078]\n",
            "Embedding shape: (384,)\n",
            "\n",
            "Ticket 2: The screen is blank and the device is unresponsive.\n",
            "Embedding (first 5 dimensions): [ 0.05260247 -0.01585972  0.01697287 -0.0415807   0.03419019]\n",
            "Embedding shape: (384,)\n",
            "\n",
            "Ticket 3: I need help with a software crash on my computer.\n",
            "Embedding (first 5 dimensions): [ 0.00935809  0.01494381  0.00097969 -0.07353229  0.00652451]\n",
            "Embedding shape: (384,)\n",
            "\n",
            "Ticket 4: My laptop won't switched on after the latest update.\n",
            "Embedding (first 5 dimensions): [-0.01262457 -0.06487854  0.00390242  0.00583799  0.07987364]\n",
            "Embedding shape: (384,)\n",
            "\n",
            "Ticket 5: My phone battery drains quickly after updating.\n",
            "Embedding (first 5 dimensions): [-0.01475925  0.07787177  0.00535659  0.01208504  0.02393223]\n",
            "Embedding shape: (384,)\n",
            "\n",
            "Full embedding for first ticket (truncated): [-0.04204226 -0.01871645  0.01252084 -0.01471921  0.06840078 -0.01840426\n",
            " -0.06513674  0.00654764  0.01490196  0.0017806 ]...\n"
          ]
        }
      ],
      "source": [
        "# Install sentence-transformers\n",
        "#!pip install -q sentence-transformers\n",
        "\n",
        "# Import libraries\n",
        "from sentence_transformers import SentenceTransformer\n",
        "import numpy as np\n",
        "\n",
        "# Sample unstructured data (customer support tickets)\n",
        "tickets = [\n",
        "    \"My laptop won't turn on after the latest update.\",\n",
        "    \"The screen is blank and the device is unresponsive.\",\n",
        "    \"I need help with a software crash on my computer.\",\n",
        "    \"My laptop won't switched on after the latest update.\",\n",
        "    \"My phone battery drains quickly after updating.\"\n",
        "]\n",
        "\n",
        "# Load SBERT model\n",
        "model = SentenceTransformer('all-MiniLM-L6-v2')\n",
        "\n",
        "# Convert text to embeddings\n",
        "embeddings = model.encode(tickets, convert_to_numpy=True)\n",
        "\n",
        "# Display embeddings\n",
        "for i, ticket in enumerate(tickets):\n",
        "    print(f\"\\nTicket {i+1}: {ticket}\")\n",
        "    print(f\"Embedding (first 5 dimensions): {embeddings[i][:5]}\")\n",
        "    print(f\"Embedding shape: {embeddings[i].shape}\")\n",
        "\n",
        "# Optional: Example of full embedding for first ticket (truncated)\n",
        "print(f\"\\nFull embedding for first ticket (truncated): {embeddings[0][:10]}...\")"
      ]
    },
    {
      "cell_type": "code",
      "source": [
        "# Install sentence-transformers\n",
        "#!pip install -q sentence-transformers\n",
        "\n",
        "# Import libraries\n",
        "from sentence_transformers import SentenceTransformer, util\n",
        "import numpy as np\n",
        "\n",
        "# Sample unstructured data (customer support tickets)\n",
        "tickets = [\n",
        "    \"My laptop won't turn on after the latest update.\",  # Ticket 1\n",
        "    \"The screen is blank and the device is unresponsive.\",  # Ticket 2\n",
        "    \"I need help with a software crash on my computer.\",  # Ticket 3\n",
        "    \"My laptop won't switched on after the latest update.\"  # Ticket 4\n",
        "]\n",
        "\n",
        "# Load SBERT model\n",
        "model = SentenceTransformer('all-MiniLM-L6-v2')\n",
        "\n",
        "# Convert text to embeddings\n",
        "embeddings = model.encode(tickets, convert_to_numpy=True)\n",
        "\n",
        "# Compute pairwise cosine similarities\n",
        "cosine_similarities = util.cos_sim(embeddings, embeddings)\n",
        "\n",
        "# Display embeddings and similarities\n",
        "for i, ticket in enumerate(tickets):\n",
        "    print(f\"\\nTicket {i+1}: {ticket}\")\n",
        "    print(f\"Embedding (first 5 dimensions): {embeddings[i][:5]}\")\n",
        "    print(f\"Embedding shape: {embeddings[i].shape}\")\n",
        "\n",
        "# Display cosine similarity matrix\n",
        "print(\"\\nCosine Similarity Matrix:\")\n",
        "for i in range(len(tickets)):\n",
        "    for j in range(len(tickets)):\n",
        "        print(f\"Similarity between Ticket {i+1} and Ticket {j+1}: {cosine_similarities[i][j]:.4f}\")"
      ],
      "metadata": {
        "colab": {
          "base_uri": "https://localhost:8080/"
        },
        "id": "Vz1LisZScdzB",
        "outputId": "572bda0d-fb4e-49d6-d669-d56383bdc70e"
      },
      "execution_count": 3,
      "outputs": [
        {
          "output_type": "stream",
          "name": "stdout",
          "text": [
            "\n",
            "Ticket 1: My laptop won't turn on after the latest update.\n",
            "Embedding (first 5 dimensions): [-0.04204226 -0.01871645  0.01252084 -0.01471921  0.06840078]\n",
            "Embedding shape: (384,)\n",
            "\n",
            "Ticket 2: The screen is blank and the device is unresponsive.\n",
            "Embedding (first 5 dimensions): [ 0.05260247 -0.01585972  0.01697287 -0.0415807   0.03419019]\n",
            "Embedding shape: (384,)\n",
            "\n",
            "Ticket 3: I need help with a software crash on my computer.\n",
            "Embedding (first 5 dimensions): [ 0.00935809  0.01494381  0.00097969 -0.07353229  0.00652451]\n",
            "Embedding shape: (384,)\n",
            "\n",
            "Ticket 4: My laptop won't switched on after the latest update.\n",
            "Embedding (first 5 dimensions): [-0.01262457 -0.06487854  0.00390242  0.00583799  0.07987364]\n",
            "Embedding shape: (384,)\n",
            "\n",
            "Cosine Similarity Matrix:\n",
            "Similarity between Ticket 1 and Ticket 1: 1.0000\n",
            "Similarity between Ticket 1 and Ticket 2: 0.3046\n",
            "Similarity between Ticket 1 and Ticket 3: 0.2036\n",
            "Similarity between Ticket 1 and Ticket 4: 0.8498\n",
            "Similarity between Ticket 2 and Ticket 1: 0.3046\n",
            "Similarity between Ticket 2 and Ticket 2: 1.0000\n",
            "Similarity between Ticket 2 and Ticket 3: 0.3389\n",
            "Similarity between Ticket 2 and Ticket 4: 0.2563\n",
            "Similarity between Ticket 3 and Ticket 1: 0.2036\n",
            "Similarity between Ticket 3 and Ticket 2: 0.3389\n",
            "Similarity between Ticket 3 and Ticket 3: 1.0000\n",
            "Similarity between Ticket 3 and Ticket 4: 0.1729\n",
            "Similarity between Ticket 4 and Ticket 1: 0.8498\n",
            "Similarity between Ticket 4 and Ticket 2: 0.2563\n",
            "Similarity between Ticket 4 and Ticket 3: 0.1729\n",
            "Similarity between Ticket 4 and Ticket 4: 1.0000\n"
          ]
        }
      ]
    },
    {
      "cell_type": "markdown",
      "source": [
        "You’re correct that Ticket 1 (\"My laptop won't turn on after the latest update.\") and Ticket 4 (\"My laptop won't switched on after the latest update.\") are semantically very similar, yet their embeddings, as shown in the first five dimensions, appear different. This is an interesting observation, and I’ll explain why this happens, what it means for Enterprise Vector Search, and how to verify their similarity using the full embeddings. I’ll also provide a Colab-compatible code example to compute the similarity between these tickets’ embeddings to confirm their semantic closeness.\n",
        "Why Embeddings Appear Different\n",
        "\n",
        "High-Dimensional Embeddings: The all-MiniLM-L6-v2 model from Sentence-BERT generates 384-dimensional embeddings, but you’re only seeing the first five dimensions in the output. These five dimensions alone don’t fully capture the semantic content of the embeddings. The similarity between two sentences is determined by comparing all 384 dimensions, typically using a metric like cosine similarity.\n",
        "Semantic Encoding: Sentence-BERT encodes the meaning of the entire sentence into the full 384-dimensional vector. Small differences in wording (e.g., “turn on” vs. “switched on”) can lead to variations in individual dimensions, but the overall vector direction (which determines similarity) remains close for semantically similar sentences.\n",
        "Model Sensitivity: While Ticket 1 and Ticket 4 are nearly identical, the slight difference (“turn on” vs. “switched on”) may cause minor variations in the embedding. SBERT is trained to capture nuanced differences in phrasing, but for highly similar sentences, the full embeddings should still be close in vector space.\n",
        "Truncated View: The first five dimensions are a small subset of the embedding and may not reflect the overall similarity. Cosine similarity or another metric over the full vectors will reveal that Ticket 1 and Ticket 4 are indeed closer to each other than to Tickets 2 or 3.\n",
        "\n",
        "Confirming Similarity\n",
        "To verify that Ticket 1 and Ticket 4 are semantically similar, we can compute the cosine similarity between their full embeddings. Cosine similarity measures the angle between two vectors, where a value close to 1 indicates high similarity. In Enterprise Vector Search, this is how a database (e.g., Milvus, Pinecone) identifies similar items."
      ],
      "metadata": {
        "id": "9MJXfGOEcmIE"
      }
    }
  ]
}