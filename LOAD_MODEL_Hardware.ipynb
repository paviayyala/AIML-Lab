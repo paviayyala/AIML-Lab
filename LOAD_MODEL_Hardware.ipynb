{
  "nbformat": 4,
  "nbformat_minor": 0,
  "metadata": {
    "colab": {
      "provenance": [],
      "authorship_tag": "ABX9TyOGyMqffTVdfnlPq75bMz5t",
      "include_colab_link": true
    },
    "kernelspec": {
      "name": "python3",
      "display_name": "Python 3"
    },
    "language_info": {
      "name": "python"
    }
  },
  "cells": [
    {
      "cell_type": "markdown",
      "metadata": {
        "id": "view-in-github",
        "colab_type": "text"
      },
      "source": [
        "<a href=\"https://colab.research.google.com/github/paviayyala/AIML-Lab/blob/main/LOAD_MODEL_Hardware.ipynb\" target=\"_parent\"><img src=\"https://colab.research.google.com/assets/colab-badge.svg\" alt=\"Open In Colab\"/></a>"
      ]
    },
    {
      "cell_type": "code",
      "execution_count": 1,
      "metadata": {
        "id": "CEYtIkqzQvlK"
      },
      "outputs": [],
      "source": []
    },
    {
      "cell_type": "code",
      "source": [
        "# Revised Logic (Priority Fix)\n",
        "\n",
        "import psutil\n",
        "import random\n",
        "\n",
        "print(\"TEST\")\n",
        "\n",
        "# --- Dummy functions for simulation ---\n",
        "def get_gpu_vram():\n",
        "    return random.choice([4, 6, 8, 10, 12])  # Simulate GPU VRAM in GB\n",
        "\n",
        "def get_system_ram_gb():\n",
        "    return round(psutil.virtual_memory().total / (1024**3))  # RAM in GB\n",
        "\n",
        "def disable_rag():\n",
        "    print(\"RAG has been disabled.\")\n",
        "\n",
        "class HardwareError(Exception):\n",
        "    pass\n",
        "\n",
        "# --- Model selection logic ---\n",
        "def load_model():\n",
        "    vram = get_gpu_vram()\n",
        "    ram = get_system_ram_gb()\n",
        "\n",
        "    print(f\"Detected GPU VRAM: {vram} GB\")\n",
        "    print(f\"Detected System RAM: {ram} GB\")\n",
        "\n",
        "    if vram >= 10 or ram >= 24:\n",
        "        print(\"Selected model: llama3-8b-instruct (high resources available)\")\n",
        "        return \"llama3-8b-instruct\"\n",
        "    elif vram >= 6 or ram >= 16:\n",
        "        print(\"Selected model: phi3-mini (medium resources available)\")\n",
        "        return \"phi3-mini\"\n",
        "    elif ram >= 8:\n",
        "        print(\"Selected model: phi3-mini with RAG disabled (low resources fallback)\")\n",
        "        disable_rag()\n",
        "        return \"phi3-mini\"\n",
        "    else:\n",
        "        print(\"Error: Insufficient resources to load any model\")\n",
        "        raise HardwareError(\"Insufficient resources\")\n",
        "\n",
        "# --- Execute model loading ---\n",
        "model = load_model()\n",
        "print(f\"Final loaded model: {model}\")\n",
        "print(\"TEST - END\")\n"
      ],
      "metadata": {
        "colab": {
          "base_uri": "https://localhost:8080/"
        },
        "id": "zxENCMiARQE_",
        "outputId": "bf7185d3-746b-4a0e-ffaf-336b4f2c916a"
      },
      "execution_count": 6,
      "outputs": [
        {
          "output_type": "stream",
          "name": "stdout",
          "text": [
            "TEST\n",
            "Detected GPU VRAM: 12 GB\n",
            "Detected System RAM: 13 GB\n",
            "Selected model: llama3-8b-instruct (high resources available)\n",
            "Final loaded model: llama3-8b-instruct\n",
            "TEST - END\n"
          ]
        }
      ]
    },
    {
      "cell_type": "code",
      "source": [],
      "metadata": {
        "id": "DMge4bAGRWCU"
      },
      "execution_count": null,
      "outputs": []
    }
  ]
}