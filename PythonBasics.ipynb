{
  "nbformat": 4,
  "nbformat_minor": 0,
  "metadata": {
    "colab": {
      "provenance": [],
      "authorship_tag": "ABX9TyOt2xGh0u6eFGcpiguDDZjf",
      "include_colab_link": true
    },
    "kernelspec": {
      "name": "python3",
      "display_name": "Python 3"
    },
    "language_info": {
      "name": "python"
    }
  },
  "cells": [
    {
      "cell_type": "markdown",
      "metadata": {
        "id": "view-in-github",
        "colab_type": "text"
      },
      "source": [
        "<a href=\"https://colab.research.google.com/github/paviayyala/AIML-Lab/blob/main/PythonBasics.ipynb\" target=\"_parent\"><img src=\"https://colab.research.google.com/assets/colab-badge.svg\" alt=\"Open In Colab\"/></a>"
      ]
    },
    {
      "cell_type": "code",
      "execution_count": 2,
      "metadata": {
        "colab": {
          "base_uri": "https://localhost:8080/"
        },
        "id": "R9b56U0rleSc",
        "outputId": "6e6bc453-e0c1-4849-f8ec-bb7094b91795"
      },
      "outputs": [
        {
          "output_type": "stream",
          "name": "stdout",
          "text": [
            "Hello, Lets Learn Python!\n"
          ]
        }
      ],
      "source": [
        "#1. Hello World\n",
        "print(\"Hello, Lets Learn Python!\")\n"
      ]
    },
    {
      "cell_type": "code",
      "source": [
        "#2. Simple Calculator\n",
        "\n",
        "a = float(input(\"Enter first number: \"))\n",
        "b = float(input(\"Enter second number: \"))\n",
        "print(\"Sum:\", a + b)\n",
        "print(\"Difference:\", a - b)\n",
        "print(\"Product:\", a * b)\n",
        "print(\"Quotient:\", a / b)\n"
      ],
      "metadata": {
        "colab": {
          "base_uri": "https://localhost:8080/"
        },
        "id": "W6rBYTfpnH9R",
        "outputId": "2fe5ea2e-4997-476b-9380-d75ff8f2c801"
      },
      "execution_count": 3,
      "outputs": [
        {
          "output_type": "stream",
          "name": "stdout",
          "text": [
            "Enter first number: 1\n",
            "Enter second number: 2\n",
            "Sum: 3.0\n",
            "Difference: -1.0\n",
            "Product: 2.0\n",
            "Quotient: 0.5\n"
          ]
        }
      ]
    },
    {
      "cell_type": "code",
      "source": [
        "#3. Even or Odd\n",
        "num = int(input(\"Enter a number: \"))\n",
        "if num % 2 == 0:\n",
        "    print(\"Even\")\n",
        "else:\n",
        "    print(\"Odd\")\n"
      ],
      "metadata": {
        "colab": {
          "base_uri": "https://localhost:8080/"
        },
        "id": "34sUxXq8nQt6",
        "outputId": "c571011c-bfc3-4331-86ef-1475d1df7751"
      },
      "execution_count": 4,
      "outputs": [
        {
          "output_type": "stream",
          "name": "stdout",
          "text": [
            "Enter a number: 5\n",
            "Odd\n"
          ]
        }
      ]
    },
    {
      "cell_type": "code",
      "source": [
        "#4. Largest of Three\n",
        "a = int(input(\"A: \"))\n",
        "b = int(input(\"B: \"))\n",
        "c = int(input(\"C: \"))\n",
        "if a >= b and a >= c:\n",
        "    print(\"Largest is A:\", a)\n",
        "elif b >= c:\n",
        "    print(\"Largest is B:\", b)\n",
        "else:\n",
        "    print(\"Largest is C:\", c)\n"
      ],
      "metadata": {
        "colab": {
          "base_uri": "https://localhost:8080/"
        },
        "id": "qBXNtmbQnWk0",
        "outputId": "356e3b35-994f-4bb9-cea8-332f32d6a885"
      },
      "execution_count": 5,
      "outputs": [
        {
          "output_type": "stream",
          "name": "stdout",
          "text": [
            "A: 1\n",
            "B: 4\n",
            "C: 2\n",
            "Largest is B: 4\n"
          ]
        }
      ]
    },
    {
      "cell_type": "code",
      "source": [
        "#5. Factorial (Using Loop)\n",
        "n = int(input(\"Enter a number: \"))\n",
        "fact = 1\n",
        "for i in range(1, n+1):\n",
        "    fact *= i\n",
        "print(\"Factorial is\", fact)\n"
      ],
      "metadata": {
        "colab": {
          "base_uri": "https://localhost:8080/"
        },
        "id": "v8wZ0kacndPQ",
        "outputId": "5a70a88f-5491-4810-d065-be7fddb34e9d"
      },
      "execution_count": 6,
      "outputs": [
        {
          "output_type": "stream",
          "name": "stdout",
          "text": [
            "Enter a number: 18\n",
            "Factorial is 6402373705728000\n"
          ]
        }
      ]
    },
    {
      "cell_type": "code",
      "source": [
        "#6. Fibonacci Sequence\n",
        "n = int(input(\"How many terms? \"))\n",
        "a, b = 0, 1\n",
        "for _ in range(n):\n",
        "    print(a, end=\" \")\n",
        "    a, b = b, a + b\n",
        "\n"
      ],
      "metadata": {
        "colab": {
          "base_uri": "https://localhost:8080/"
        },
        "id": "3IufErzCnk2_",
        "outputId": "e90ac430-1719-49f9-ff87-6e7bc2a4b61b"
      },
      "execution_count": 7,
      "outputs": [
        {
          "output_type": "stream",
          "name": "stdout",
          "text": [
            "How many terms? 6\n",
            "0 1 1 2 3 5 "
          ]
        }
      ]
    },
    {
      "cell_type": "code",
      "source": [
        "#List Operations\n",
        "nums = [10, 20, 30, 40, 50]\n",
        "print(\"List:\", nums)\n",
        "print(\"Sum:\", sum(nums))\n",
        "print(\"Max:\", max(nums))\n",
        "print(\"Reversed:\", list(reversed(nums)))\n"
      ],
      "metadata": {
        "colab": {
          "base_uri": "https://localhost:8080/"
        },
        "id": "1zxvkQ_lnswk",
        "outputId": "d2797b68-48ea-439c-cb65-ee5302c1062d"
      },
      "execution_count": 8,
      "outputs": [
        {
          "output_type": "stream",
          "name": "stdout",
          "text": [
            "List: [10, 20, 30, 40, 50]\n",
            "Sum: 150\n",
            "Max: 50\n",
            "Reversed: [50, 40, 30, 20, 10]\n"
          ]
        }
      ]
    },
    {
      "cell_type": "code",
      "source": [
        "#Dictionary Example\n",
        "\n",
        "student = {\"name\": \"Alice\", \"age\": 22, \"marks\": 87}\n",
        "for key, value in student.items():\n",
        "    print(f\"{key}: {value}\")\n"
      ],
      "metadata": {
        "colab": {
          "base_uri": "https://localhost:8080/"
        },
        "id": "kVuHtBy6nxuh",
        "outputId": "12e91f10-af01-4b63-c0f1-7bead7f6fa58"
      },
      "execution_count": 9,
      "outputs": [
        {
          "output_type": "stream",
          "name": "stdout",
          "text": [
            "name: Alice\n",
            "age: 22\n",
            "marks: 87\n"
          ]
        }
      ]
    },
    {
      "cell_type": "code",
      "source": [],
      "metadata": {
        "id": "ZyBIGGVYn1vZ"
      },
      "execution_count": null,
      "outputs": []
    }
  ]
}