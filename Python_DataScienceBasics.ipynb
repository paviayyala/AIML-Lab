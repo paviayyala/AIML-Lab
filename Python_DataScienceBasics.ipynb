{
  "nbformat": 4,
  "nbformat_minor": 0,
  "metadata": {
    "colab": {
      "provenance": [],
      "authorship_tag": "ABX9TyOmlFz+xTJGn3EzvS5WmCcA",
      "include_colab_link": true
    },
    "kernelspec": {
      "name": "python3",
      "display_name": "Python 3"
    },
    "language_info": {
      "name": "python"
    }
  },
  "cells": [
    {
      "cell_type": "markdown",
      "metadata": {
        "id": "view-in-github",
        "colab_type": "text"
      },
      "source": [
        "<a href=\"https://colab.research.google.com/github/paviayyala/AIML-Lab/blob/main/Python_DataScienceBasics.ipynb\" target=\"_parent\"><img src=\"https://colab.research.google.com/assets/colab-badge.svg\" alt=\"Open In Colab\"/></a>"
      ]
    },
    {
      "cell_type": "code",
      "execution_count": 3,
      "metadata": {
        "colab": {
          "base_uri": "https://localhost:8080/"
        },
        "id": "OgH7AXzKqBIr",
        "outputId": "bd0e03b2-89db-422b-8c3c-f5ebf9d6e4f1"
      },
      "outputs": [
        {
          "output_type": "stream",
          "name": "stdout",
          "text": [
            "Mean: 15.428571428571429\n",
            "Median: 15\n",
            "Mode: 15\n"
          ]
        }
      ],
      "source": [
        "# Program 1: Calculate Mean, Median, and Mode\n",
        "\n",
        "import statistics  # Built-in module for basic statistics functions\n",
        "\n",
        "data = [12, 15, 21, 15, 13, 15, 17]\n",
        "\n",
        "# Mean = Sum of elements / Total number of elements\n",
        "print(\"Mean:\", statistics.mean(data))\n",
        "\n",
        "# Median = Middle value when sorted (odd), or avg of two middle values (even)\n",
        "print(\"Median:\", statistics.median(data))\n",
        "\n",
        "# Mode = Value that appears most frequently\n",
        "print(\"Mode:\", statistics.mode(data))\n",
        "\n"
      ]
    },
    {
      "cell_type": "code",
      "source": [
        "# Program 2: Plot a simple line graph\n",
        "\n",
        "import matplotlib.pyplot as plt  # Used for plotting graphs and charts\n",
        "\n",
        "x = [1, 2, 3, 4, 5]  # Independent variable\n",
        "y = [2, 4, 6, 8, 10]  # Dependent variable (y = 2 * x)\n",
        "\n",
        "# Plot the relationship between x and y\n",
        "plt.plot(x, y)\n",
        "plt.title(\"Line Graph\")\n",
        "plt.xlabel(\"X-axis\")\n",
        "plt.ylabel(\"Y-axis\")\n",
        "plt.grid(True)\n",
        "plt.show()\n",
        "\n"
      ],
      "metadata": {
        "colab": {
          "base_uri": "https://localhost:8080/",
          "height": 472
        },
        "id": "cZnM0NgwqPTU",
        "outputId": "fb0d7a0a-3049-4fbb-ed09-51575be1c4c1"
      },
      "execution_count": 4,
      "outputs": [
        {
          "output_type": "display_data",
          "data": {
            "text/plain": [
              "<Figure size 640x480 with 1 Axes>"
            ],
            "image/png": "[encoded data removed]"
          },
          "metadata": {}
        }
      ]
    },
    {
      "cell_type": "code",
      "source": [
        "# Program 3: Load a CSV and display basic info\n",
        "\n",
        "import pandas as pd  # Used for handling tabular data (DataFrames)\n",
        "\n",
        "df = pd.read_csv(\"/content/sample_data/sample.csv\")  # Load CSV file into a DataFrame\n",
        "\n",
        "print(df.head())  # Show first 5 rows\n",
        "print(df.info())  # Show column types and non-null counts\n"
      ],
      "metadata": {
        "colab": {
          "base_uri": "https://localhost:8080/"
        },
        "id": "21Lt7wMCquiy",
        "outputId": "7e70043b-50db-44bb-9366-26a546ec4295"
      },
      "execution_count": 11,
      "outputs": [
        {
          "output_type": "stream",
          "name": "stdout",
          "text": [
            "   col1 col2   col3\n",
            "0     1    a   True\n",
            "1     2    b  False\n",
            "2     3    c   True\n",
            "<class 'pandas.core.frame.DataFrame'>\n",
            "RangeIndex: 3 entries, 0 to 2\n",
            "Data columns (total 3 columns):\n",
            " #   Column  Non-Null Count  Dtype \n",
            "---  ------  --------------  ----- \n",
            " 0   col1    3 non-null      int64 \n",
            " 1   col2    3 non-null      object\n",
            " 2   col3    3 non-null      bool  \n",
            "dtypes: bool(1), int64(1), object(1)\n",
            "memory usage: 183.0+ bytes\n",
            "None\n"
          ]
        }
      ]
    },
    {
      "cell_type": "code",
      "source": [
        "# Program 4: Fill missing values in a DataFrame\n",
        "\n",
        "import pandas as pd  # Data handling library\n",
        "import numpy as np   # Library for numerical operations and arrays\n",
        "\n",
        "df = pd.DataFrame({\n",
        "    'A': [1, 2, np.nan, 4],\n",
        "    'B': [5, np.nan, 7, 8]\n",
        "})\n",
        "\n",
        "# Replace NaN (missing values) with 0\n",
        "print(df.fillna(0))\n"
      ],
      "metadata": {
        "colab": {
          "base_uri": "https://localhost:8080/"
        },
        "id": "NTvqDuyEsHLp",
        "outputId": "647bf300-737a-4b14-d570-27dc06821a3c"
      },
      "execution_count": 12,
      "outputs": [
        {
          "output_type": "stream",
          "name": "stdout",
          "text": [
            "     A    B\n",
            "0  1.0  5.0\n",
            "1  2.0  0.0\n",
            "2  0.0  7.0\n",
            "3  4.0  8.0\n"
          ]
        }
      ]
    },
    {
      "cell_type": "code",
      "source": [
        "# Program 5: Calculate correlation between columns\n",
        "\n",
        "\n",
        "import pandas as pd  # For creating and handling tabular data\n",
        "\n",
        "data = {\n",
        "    'height': [150, 160, 170, 180],\n",
        "    'weight': [50, 60, 70, 80]\n",
        "}\n",
        "\n",
        "df = pd.DataFrame(data)\n",
        "\n",
        "# Pearson Correlation Coefficient:\n",
        "# r = covariance(x, y) / (std_dev_x * std_dev_y)\n",
        "print(df.corr())\n"
      ],
      "metadata": {
        "colab": {
          "base_uri": "https://localhost:8080/"
        },
        "id": "t3dXnqTzsLA7",
        "outputId": "0eeb2155-204a-4be1-9f3b-a15084b5ddc4"
      },
      "execution_count": 13,
      "outputs": [
        {
          "output_type": "stream",
          "name": "stdout",
          "text": [
            "        height  weight\n",
            "height     1.0     1.0\n",
            "weight     1.0     1.0\n"
          ]
        }
      ]
    },
    {
      "cell_type": "code",
      "source": [
        "# Program 6: Generate random numbers from a normal distribution\n",
        "\n",
        "import numpy as np  # For numerical operations and generating random data\n",
        "\n",
        "np.random.seed(42)  # Set seed to get the same output every time (reproducibility)\n",
        "\n",
        "# Generate 10 random numbers from a normal distribution (mean=0, std=1)\n",
        "data = np.random.normal(0, 1, 10)\n",
        "print(data)\n"
      ],
      "metadata": {
        "colab": {
          "base_uri": "https://localhost:8080/"
        },
        "id": "aGT7KeqJtEbM",
        "outputId": "6c8d10fa-f84b-4801-f11c-59961abcdcac"
      },
      "execution_count": 14,
      "outputs": [
        {
          "output_type": "stream",
          "name": "stdout",
          "text": [
            "[ 0.49671415 -0.1382643   0.64768854  1.52302986 -0.23415337 -0.23413696\n",
            "  1.57921282  0.76743473 -0.46947439  0.54256004]\n"
          ]
        }
      ]
    },
    {
      "cell_type": "code",
      "source": [
        "# Program 7: Perform Simple Linear Regression\n",
        "\n",
        "from sklearn.linear_model import LinearRegression  # For training regression model\n",
        "import numpy as np  # For creating input arrays\n",
        "\n",
        "# Simple Linear Regression: y = m * x + c\n",
        "X = np.array([[1], [2], [3], [4]])  # Feature (independent variable)\n",
        "y = np.array([2, 4, 6, 8])          # Target (dependent variable)\n",
        "\n",
        "model = LinearRegression()\n",
        "model.fit(X, y)\n",
        "\n",
        "print(\"Slope (m):\", model.coef_[0])      # m in y = mx + c\n",
        "print(\"Intercept (c):\", model.intercept_)\n"
      ],
      "metadata": {
        "colab": {
          "base_uri": "https://localhost:8080/"
        },
        "id": "2yTAwZrFtG_0",
        "outputId": "029b54b2-e942-4694-d814-e7051d78ccb7"
      },
      "execution_count": 15,
      "outputs": [
        {
          "output_type": "stream",
          "name": "stdout",
          "text": [
            "Slope (m): 2.0\n",
            "Intercept (c): 0.0\n"
          ]
        }
      ]
    },
    {
      "cell_type": "code",
      "source": [
        "# Program 8: Convert categories into numbers using Label Encoding\n",
        "\n",
        "from sklearn.preprocessing import LabelEncoder  # For converting text labels into numbers\n",
        "\n",
        "data = ['cat', 'dog', 'fish', 'cat', 'dog']\n",
        "\n",
        "# Convert each unique label to an integer\n",
        "encoder = LabelEncoder()\n",
        "encoded = encoder.fit_transform(data)\n",
        "print(encoded)\n"
      ],
      "metadata": {
        "colab": {
          "base_uri": "https://localhost:8080/"
        },
        "id": "JXKW6ywStMxC",
        "outputId": "20091933-8eb1-42ca-9e6e-3e9c1dba2d1c"
      },
      "execution_count": 16,
      "outputs": [
        {
          "output_type": "stream",
          "name": "stdout",
          "text": [
            "[0 1 2 0 1]\n"
          ]
        }
      ]
    },
    {
      "cell_type": "code",
      "source": [
        "# Program 9: Group data by a column and find the mean\n",
        "\n",
        "import pandas as pd  # For data analysis and manipulation\n",
        "\n",
        "df = pd.DataFrame({\n",
        "    'Dept': ['Sales', 'Sales', 'HR', 'HR'],\n",
        "    'Salary': [30000, 40000, 35000, 38000]\n",
        "})\n",
        "\n",
        "# Group by 'Dept' and calculate average salary\n",
        "print(df.groupby('Dept').mean())\n"
      ],
      "metadata": {
        "colab": {
          "base_uri": "https://localhost:8080/"
        },
        "id": "mR-AgLl3tN-k",
        "outputId": "7b09a8de-df3f-4081-f262-6bd9260cfc7c"
      },
      "execution_count": 17,
      "outputs": [
        {
          "output_type": "stream",
          "name": "stdout",
          "text": [
            "        Salary\n",
            "Dept          \n",
            "HR     36500.0\n",
            "Sales  35000.0\n"
          ]
        }
      ]
    },
    {
      "cell_type": "code",
      "source": [
        "# Program 10: Filter rows based on a condition\n",
        "\n",
        "import pandas as pd  # To create and manipulate DataFrames\n",
        "\n",
        "df = pd.DataFrame({\n",
        "    'Name': ['Alice', 'Bob', 'Charlie', 'David'],\n",
        "    'Age': [25, 32, 18, 45]\n",
        "})\n",
        "\n",
        "# Filter records where Age > 30 using boolean indexing\n",
        "print(df[df['Age'] > 30])\n"
      ],
      "metadata": {
        "colab": {
          "base_uri": "https://localhost:8080/"
        },
        "id": "OumAR7GutSSo",
        "outputId": "5987cff1-d549-4180-dbd5-ad7717c2484f"
      },
      "execution_count": 18,
      "outputs": [
        {
          "output_type": "stream",
          "name": "stdout",
          "text": [
            "    Name  Age\n",
            "1    Bob   32\n",
            "3  David   45\n"
          ]
        }
      ]
    },
    {
      "cell_type": "code",
      "metadata": {
        "colab": {
          "base_uri": "https://localhost:8080/"
        },
        "id": "4bde1b35",
        "outputId": "c661e2a5-f645-4da2-cc83-4f1fb27c48ab"
      },
      "source": [
        "# Create a dummy sample.csv file\n",
        "with open('/content/sample_data/sample.csv', 'w') as f:\n",
        "    f.write('col1,col2,col3\\n')\n",
        "    f.write('1,a,True\\n')\n",
        "    f.write('2,b,False\\n')\n",
        "    f.write('3,c,True\\n')\n",
        "\n",
        "print(\"Created dummy sample.csv\")"
      ],
      "execution_count": 9,
      "outputs": [
        {
          "output_type": "stream",
          "name": "stdout",
          "text": [
            "Created dummy sample.csv\n"
          ]
        }
      ]
    }
  ]
}