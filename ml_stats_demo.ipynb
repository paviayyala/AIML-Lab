{
  "cells": [
    {
      "cell_type": "markdown",
      "metadata": {
        "id": "view-in-github",
        "colab_type": "text"
      },
      "source": [
        "<a href=\"https://colab.research.google.com/github/paviayyala/AIML-Lab/blob/main/ml_stats_demo.ipynb\" target=\"_parent\"><img src=\"https://colab.research.google.com/assets/colab-badge.svg\" alt=\"Open In Colab\"/></a>"
      ]
    },
    {
      "cell_type": "code",
      "source": [
        "# 🛠️ Install missing libraries (run this only if you get import errors)\n",
        "\n",
        "!pip install numpy matplotlib scipy pandas\n"
      ],
      "metadata": {
        "colab": {
          "base_uri": "https://localhost:8080/"
        },
        "id": "2sUVhRpof5M9",
        "outputId": "d9351b75-9580-49e6-cbb8-433ec0b7e527"
      },
      "id": "2sUVhRpof5M9",
      "execution_count": null,
      "outputs": [
        {
          "output_type": "stream",
          "name": "stdout",
          "text": [
            "Requirement already satisfied: numpy in /usr/local/lib/python3.12/dist-packages (2.0.2)\n",
            "Requirement already satisfied: matplotlib in /usr/local/lib/python3.12/dist-packages (3.10.0)\n",
            "Requirement already satisfied: scipy in /usr/local/lib/python3.12/dist-packages (1.16.2)\n",
            "Requirement already satisfied: pandas in /usr/local/lib/python3.12/dist-packages (2.2.2)\n",
            "Requirement already satisfied: contourpy>=1.0.1 in /usr/local/lib/python3.12/dist-packages (from matplotlib) (1.3.3)\n",
            "Requirement already satisfied: cycler>=0.10 in /usr/local/lib/python3.12/dist-packages (from matplotlib) (0.12.1)\n",
            "Requirement already satisfied: fonttools>=4.22.0 in /usr/local/lib/python3.12/dist-packages (from matplotlib) (4.60.1)\n",
            "Requirement already satisfied: kiwisolver>=1.3.1 in /usr/local/lib/python3.12/dist-packages (from matplotlib) (1.4.9)\n",
            "Requirement already satisfied: packaging>=20.0 in /usr/local/lib/python3.12/dist-packages (from matplotlib) (25.0)\n",
            "Requirement already satisfied: pillow>=8 in /usr/local/lib/python3.12/dist-packages (from matplotlib) (11.3.0)\n",
            "Requirement already satisfied: pyparsing>=2.3.1 in /usr/local/lib/python3.12/dist-packages (from matplotlib) (3.2.5)\n",
            "Requirement already satisfied: python-dateutil>=2.7 in /usr/local/lib/python3.12/dist-packages (from matplotlib) (2.9.0.post0)\n",
            "Requirement already satisfied: pytz>=2020.1 in /usr/local/lib/python3.12/dist-packages (from pandas) (2025.2)\n",
            "Requirement already satisfied: tzdata>=2022.7 in /usr/local/lib/python3.12/dist-packages (from pandas) (2025.2)\n",
            "Requirement already satisfied: six>=1.5 in /usr/local/lib/python3.12/dist-packages (from python-dateutil>=2.7->matplotlib) (1.17.0)\n"
          ]
        }
      ]
    },
    {
      "cell_type": "code",
      "execution_count": null,
      "id": "3796da5a",
      "metadata": {
        "colab": {
          "base_uri": "https://localhost:8080/"
        },
        "id": "3796da5a",
        "outputId": "91c5db14-d6d0-45ad-c6e2-bf36220dcda8"
      },
      "outputs": [
        {
          "output_type": "stream",
          "name": "stdout",
          "text": [
            "Libraries loaded. Run the sections below one by one.\n"
          ]
        }
      ],
      "source": [
        "# Imports and setup\n",
        "import numpy as np\n",
        "import matplotlib.pyplot as plt\n",
        "from scipy import stats\n",
        "import math\n",
        "import pandas as pd\n",
        "\n",
        "# For inline plots in Colab\n",
        "%matplotlib inline\n",
        "\n",
        "print(\"Libraries loaded. Run the sections below one by one.\")"
      ]
    },
    {
      "cell_type": "markdown",
      "id": "f4f561b0",
      "metadata": {
        "id": "f4f561b0"
      },
      "source": [
        "# 🛠️ Install missing libraries (run this only if you get import errors)\n",
        "\n",
        "!pip install numpy matplotlib scipy pandas\n",
        "\n",
        "\n",
        "# ML Statistics & Probability Demo Notebook\n",
        "This notebook demonstrates **key statistical concepts** used in Machine Learning with clear explanations and runnable code cells for Google Colab:\n",
        "- Probability Distribution (discrete & continuous)\n",
        "- Bayes' Theorem (medical + spam examples)\n",
        "- Hypothesis Testing (two-sample t-test)\n",
        "- Confidence Interval (t-based 95% CI)\n",
        "- A/B Testing (two-proportion z-test)\n",
        "\n",
        "**How to use:** Run each cell in order in Colab. Each code cell contains detailed comments and prints explanations for students.\n"
      ]
    },
    {
      "cell_type": "markdown",
      "id": "e8706ef5",
      "metadata": {
        "id": "e8706ef5"
      },
      "source": [
        "## 1) Probability Distribution\n",
        "This section shows:\n",
        "- A discrete distribution example (PMF for a fair six-sided die)\n",
        "- A continuous distribution example (sampling from a Normal distribution and plotting histogram + PDF)\n",
        "\n",
        "**Concept:** A probability distribution describes how probabilities are assigned to outcomes (discrete) or densities (continuous)."
      ]
    },
    {
      "cell_type": "code",
      "execution_count": null,
      "id": "d2d337cd",
      "metadata": {
        "colab": {
          "base_uri": "https://localhost:8080/",
          "height": 901
        },
        "id": "d2d337cd",
        "outputId": "2e672d5c-aa18-4958-8865-6ad3ca71a669"
      },
      "outputs": [
        {
          "output_type": "stream",
          "name": "stdout",
          "text": [
            "Discrete example: fair 6-sided die (PMF)\n",
            "Face 1: P(X=1) = 0.167\n",
            "Face 2: P(X=2) = 0.167\n",
            "Face 3: P(X=3) = 0.167\n",
            "Face 4: P(X=4) = 0.167\n",
            "Face 5: P(X=5) = 0.167\n",
            "Face 6: P(X=6) = 0.167\n"
          ]
        },
        {
          "output_type": "display_data",
          "data": {
            "text/plain": [
              "<Figure size 600x350 with 1 Axes>"
            ],
            "image/png": "[encoded data removed]"
          },
          "metadata": {}
        },
        {
          "output_type": "stream",
          "name": "stdout",
          "text": [
            "\n",
            "Continuous example: Normal distribution (sample histogram approximates PDF)\n",
            "Sample mean ≈ 49.55, sample std ≈ 9.88\n"
          ]
        },
        {
          "output_type": "display_data",
          "data": {
            "text/plain": [
              "<Figure size 600x350 with 1 Axes>"
            ],
            "image/png": "[encoded data removed]"
          },
          "metadata": {}
        }
      ],
      "source": [
        "# Discrete example: fair six-sided die (PMF)\n",
        "faces = np.arange(1, 7)        # faces 1..6\n",
        "pmf = np.ones_like(faces) / 6  # equal probability for a fair die\n",
        "print(\"Discrete example: fair 6-sided die (PMF)\")\n",
        "for f, p in zip(faces, pmf):\n",
        "    print(f\"Face {f}: P(X={f}) = {p:.3f}\")\n",
        "\n",
        "plt.figure(figsize=(6,3.5))\n",
        "plt.bar(faces, pmf)\n",
        "plt.title(\"PMF: Fair 6-sided Die\")\n",
        "plt.xlabel(\"Face value\")\n",
        "plt.ylabel(\"Probability\")\n",
        "plt.xticks(faces)\n",
        "plt.show()\n",
        "\n",
        "# Continuous example: Normal distribution samples\n",
        "np.random.seed(0)\n",
        "samples = np.random.normal(loc=50, scale=10, size=1000)  # mean=50, std=10\n",
        "print(\"\\nContinuous example: Normal distribution (sample histogram approximates PDF)\")\n",
        "print(f\"Sample mean ≈ {samples.mean():.2f}, sample std ≈ {samples.std(ddof=1):.2f}\")\n",
        "\n",
        "plt.figure(figsize=(6,3.5))\n",
        "plt.hist(samples, bins=30, density=True)  # density=True so area ~ 1 (PDF-like)\n",
        "x = np.linspace(10, 90, 300)\n",
        "pdf = stats.norm.pdf(x, loc=50, scale=10)\n",
        "plt.plot(x, pdf)\n",
        "plt.title(\"Histogram of samples (Normal) with true PDF overlay\")\n",
        "plt.xlabel(\"Value\")\n",
        "plt.ylabel(\"Density\")\n",
        "plt.show()"
      ]
    },
    {
      "cell_type": "code",
      "source": [
        "# ==============================================\n",
        "# Probability Distribution Examples\n",
        "# ==============================================\n",
        "# We will see:\n",
        "#   1. Discrete Probability Distribution (fair die)\n",
        "#   2. Continuous Probability Distribution (normal distribution)\n",
        "# ==============================================\n",
        "\n",
        "# Import necessary libraries\n",
        "import numpy as np               # Used for numeric calculations and array handling\n",
        "import matplotlib.pyplot as plt  # Used for plotting charts and visualizations\n",
        "from scipy import stats          # Used for statistical functions (like normal PDF)\n",
        "\n",
        "# ---------------------------------------------------\n",
        "# 1️⃣ DISCRETE DISTRIBUTION: Fair Six-Sided Die\n",
        "# ---------------------------------------------------\n",
        "\n",
        "# Create an array of possible outcomes for a die: 1, 2, 3, 4, 5, 6\n",
        "faces = np.arange(1, 7)\n",
        "\n",
        "# For a fair die, all faces have equal probability (1/6 each)\n",
        "# np.ones_like(faces) creates an array of ones with same size as 'faces'\n",
        "pmf = np.ones_like(faces) / 6\n",
        "\n",
        "# Print the probability of each face\n",
        "print(\"Discrete example: fair 6-sided die (PMF)\")\n",
        "for f, p in zip(faces, pmf):                     # zip() pairs face and its probability\n",
        "    print(f\"Face {f}: P(X={f}) = {p:.3f}\")       # print each face and probability value\n",
        "\n",
        "# Plot the Probability Mass Function (PMF) using a bar chart\n",
        "plt.figure(figsize=(6, 3.5))                     # set figure size for clear display\n",
        "plt.bar(faces, pmf)                              # bar chart of face vs probability\n",
        "plt.title(\"PMF: Fair 6-sided Die\")               # chart title\n",
        "plt.xlabel(\"Face value\")                         # x-axis label\n",
        "plt.ylabel(\"Probability\")                        # y-axis label\n",
        "plt.xticks(faces)                                # show 1 to 6 on x-axis\n",
        "plt.show()                                       # display the chart\n",
        "\n",
        "# ---------------------------------------------------\n",
        "# 2️⃣ CONTINUOUS DISTRIBUTION: Normal Distribution\n",
        "# ---------------------------------------------------\n",
        "\n",
        "# Set random seed so results are reproducible (same every time you run)\n",
        "np.random.seed(0)\n",
        "\n",
        "# Generate 1000 random samples from a normal distribution\n",
        "# loc = 50 → mean, scale = 10 → standard deviation\n",
        "samples = np.random.normal(loc=50, scale=10, size=1000)\n",
        "\n",
        "# Print sample mean and standard deviation to show it's close to expected values\n",
        "print(\"\\nContinuous example: Normal distribution (sample histogram approximates PDF)\")\n",
        "print(f\"Sample mean ≈ {samples.mean():.2f}, sample std ≈ {samples.std(ddof=1):.2f}\")\n",
        "\n",
        "# Create a histogram of the sampled data\n",
        "plt.figure(figsize=(6, 3.5))\n",
        "# bins=30 → divide data into 30 groups, density=True → makes area under histogram = 1\n",
        "plt.hist(samples, bins=30, density=True, alpha=0.6, label=\"Sample Data\")\n",
        "\n",
        "# Create x values from 10 to 90 for plotting the true Normal PDF curve\n",
        "x = np.linspace(10, 90, 300)\n",
        "\n",
        "# Compute the actual Probability Density Function (PDF) using the true parameters\n",
        "pdf = stats.norm.pdf(x, loc=50, scale=10)\n",
        "\n",
        "# Plot the true normal curve over the histogram for comparison\n",
        "plt.plot(x, pdf, 'r', label=\"True Normal PDF\")\n",
        "\n",
        "# Add title and labels to the plot\n",
        "plt.title(\"Histogram of Normal Samples with True PDF Overlay\")\n",
        "plt.xlabel(\"Value\")\n",
        "plt.ylabel(\"Density\")\n",
        "plt.legend()                                    # show legend for clarity\n",
        "plt.show()                                      # display the plot\n",
        "\n",
        "# ==============================================\n",
        "# End of program\n",
        "# ==============================================\n"
      ],
      "metadata": {
        "colab": {
          "base_uri": "https://localhost:8080/",
          "height": 901
        },
        "id": "Lvl4RZrahENm",
        "outputId": "e9287bf9-b7b0-4969-f9ac-4ec8db486592"
      },
      "id": "Lvl4RZrahENm",
      "execution_count": null,
      "outputs": [
        {
          "output_type": "stream",
          "name": "stdout",
          "text": [
            "Discrete example: fair 6-sided die (PMF)\n",
            "Face 1: P(X=1) = 0.167\n",
            "Face 2: P(X=2) = 0.167\n",
            "Face 3: P(X=3) = 0.167\n",
            "Face 4: P(X=4) = 0.167\n",
            "Face 5: P(X=5) = 0.167\n",
            "Face 6: P(X=6) = 0.167\n"
          ]
        },
        {
          "output_type": "display_data",
          "data": {
            "text/plain": [
              "<Figure size 600x350 with 1 Axes>"
            ],
            "image/png": "[encoded data removed]"
          },
          "metadata": {}
        },
        {
          "output_type": "stream",
          "name": "stdout",
          "text": [
            "\n",
            "Continuous example: Normal distribution (sample histogram approximates PDF)\n",
            "Sample mean ≈ 49.55, sample std ≈ 9.88\n"
          ]
        },
        {
          "output_type": "display_data",
          "data": {
            "text/plain": [
              "<Figure size 600x350 with 1 Axes>"
            ],
            "image/png": "[encoded data removed]"
          },
          "metadata": {}
        }
      ]
    },
    {
      "cell_type": "code",
      "source": [
        "# Hypothesis Testing — Two-sample t-test (simple, pasteable)\n",
        "# H0: mean_after = mean_before  (no change)\n",
        "# H1: mean_after > mean_before  (training increased average sales)\n",
        "\n",
        "import numpy as np\n",
        "from scipy import stats\n",
        "\n",
        "# Example sample data: monthly sales (in thousands) for 8 reps before and after training\n",
        "before = np.array([18, 20, 17, 19, 16, 21, 18, 19])  # mean ~ 18.5\n",
        "after  = np.array([22, 24, 20, 23, 21, 25, 24, 22])  # mean ~ 22.625\n",
        "\n",
        "# 1) Inspect sample means\n",
        "mean_before = before.mean()\n",
        "mean_after = after.mean()\n",
        "print(f\"Mean before = {mean_before:.2f}k, Mean after = {mean_after:.2f}k\")\n",
        "\n",
        "# 2) Perform two-sample (independent) t-test (Welch's t-test by default)\n",
        "t_stat, p_two_sided = stats.ttest_ind(after, before, equal_var=False)\n",
        "\n",
        "# 3) Convert two-sided p-value to one-sided p-value for H1: mean_after > mean_before\n",
        "# If t_stat is positive (after > before), one-sided p = p_two_sided / 2; otherwise it's 1 - p_two_sided/2\n",
        "if t_stat > 0:\n",
        "    p_one_sided = p_two_sided / 2\n",
        "else:\n",
        "    p_one_sided = 1 - (p_two_sided / 2)\n",
        "\n",
        "alpha = 0.05  # significance level\n",
        "\n",
        "# 4) Print results and decision\n",
        "print(f\"t-statistic = {t_stat:.3f}\")\n",
        "print(f\"one-sided p-value = {p_one_sided:.4f} (alpha = {alpha})\")\n",
        "\n",
        "if p_one_sided < alpha:\n",
        "    print(\"Decision: Reject H0 → Training significantly increased average sales.\")\n",
        "else:\n",
        "    print(\"Decision: Fail to reject H0 → No strong evidence training increased sales.\")\n"
      ],
      "metadata": {
        "colab": {
          "base_uri": "https://localhost:8080/"
        },
        "id": "Jfvwp8lhbWUR",
        "outputId": "5d1ed542-b277-417e-bc7a-0c728237143b"
      },
      "id": "Jfvwp8lhbWUR",
      "execution_count": null,
      "outputs": [
        {
          "output_type": "stream",
          "name": "stdout",
          "text": [
            "Mean before = 18.50k, Mean after = 22.62k\n",
            "t-statistic = 5.016\n",
            "one-sided p-value = 0.0001 (alpha = 0.05)\n",
            "Decision: Reject H0 → Training significantly increased average sales.\n"
          ]
        }
      ]
    },
    {
      "cell_type": "code",
      "source": [
        "import numpy as np\n",
        "from scipy import stats\n",
        "\n",
        "# Example sample data: monthly sales (in thousands) for 8 reps before and after training\n",
        "before = np.array([18, 20, 17, 19, 16, 21, 18, 19])  # mean ~ 18.5\n",
        "after  = np.array([22, 24, 20, 23, 21, 25, 24, 22])  # mean ~ 22.625\n",
        "\n",
        "# 1) Inspect sample means\n",
        "mean_before = before.mean()\n",
        "mean_after = after.mean()\n",
        "print(f\"Mean before = {mean_before:.2f}k, Mean after = {mean_after:.2f}k\")\n"
      ],
      "metadata": {
        "colab": {
          "base_uri": "https://localhost:8080/"
        },
        "id": "WyvekJXhe9Z-",
        "outputId": "5457b11f-c2a4-4c7e-a04f-8d9a83f2b90b"
      },
      "id": "WyvekJXhe9Z-",
      "execution_count": null,
      "outputs": [
        {
          "output_type": "stream",
          "name": "stdout",
          "text": [
            "Mean before = 18.50k, Mean after = 22.62k\n"
          ]
        }
      ]
    },
    {
      "cell_type": "code",
      "source": [
        "# 2) Perform two-sample (independent) t-test (Welch's t-test by default)\n",
        "print (t_stat)\n",
        "print(p_two_sided)\n",
        "t_stat, p_two_sided = stats.ttest_ind(after, before, equal_var=False)\n",
        "print (t_stat)\n",
        "print(p_two_sided)\n",
        "\n",
        "# 3) Convert two-sided p-value to one-sided p-value for H1: mean_after > mean_before\n",
        "# If t_stat is positive (after > before), one-sided p = p_two_sided / 2; otherwise it's 1 - p_two_sided/2\n",
        "if t_stat > 0:\n",
        "    p_one_sided = p_two_sided / 2\n",
        "else:\n",
        "    p_one_sided = 1 - (p_two_sided / 2)\n",
        "\n",
        "alpha = 0.05  # significance level\n",
        "\n",
        "# 4) Print results and decision\n",
        "print(f\"t-statistic = {t_stat:.3f}\")\n",
        "print(f\"one-sided p-value = {p_one_sided:.4f} (alpha = {alpha})\")"
      ],
      "metadata": {
        "colab": {
          "base_uri": "https://localhost:8080/"
        },
        "id": "R40Ylu7NfIVw",
        "outputId": "f7296bf0-5733-4177-d1c8-3a567c2e0b6b"
      },
      "id": "R40Ylu7NfIVw",
      "execution_count": null,
      "outputs": [
        {
          "output_type": "stream",
          "name": "stdout",
          "text": [
            "5.015816567776793\n",
            "0.00019029268992181648\n",
            "5.015816567776793\n",
            "0.00019029268992181648\n",
            "t-statistic = 5.016\n",
            "one-sided p-value = 0.0001 (alpha = 0.05)\n"
          ]
        }
      ]
    },
    {
      "cell_type": "code",
      "source": [
        "# -----------------------------------------------\n",
        "# Import commonly used Python libraries for Data Science\n",
        "# -----------------------------------------------\n",
        "\n",
        "import numpy as np                # numpy (np) → Used for numerical calculations and handling arrays,\n",
        "                                 # matrices, and mathematical operations efficiently.\n",
        "\n",
        "import matplotlib.pyplot as plt   # matplotlib.pyplot (plt) → Used for creating visualizations like charts,\n",
        "                                 # graphs, and plots to see data patterns.\n",
        "\n",
        "import seaborn as sns             # seaborn (sns) → A high-level visualization library built on top of Matplotlib\n",
        "                                 # that makes beautiful and easy-to-read statistical plots.\n",
        "\n",
        "# Optional: show that imports are successful\n",
        "print(\"✅ Libraries imported successfully!\")\n",
        "\n",
        "\n",
        "sns.histplot(np.random.normal(0,1,1000), kde=True)  # Normal\n",
        "sns.histplot(np.random.binomial(10, 0.5, 1000))     # Binomial\n",
        "sns.histplot(np.random.poisson(3, 1000))            # Poisson\n",
        "sns.histplot(np.random.exponential(1, 1000))        # Exponential\n",
        "sns.histplot(np.random.uniform(0, 1, 1000))         # Uniform\n",
        "plt.show()\n"
      ],
      "metadata": {
        "colab": {
          "base_uri": "https://localhost:8080/",
          "height": 447
        },
        "id": "_IQP-0DRo__P",
        "outputId": "8b3f491e-3293-40e0-8266-1d46dd440757"
      },
      "id": "_IQP-0DRo__P",
      "execution_count": null,
      "outputs": [
        {
          "output_type": "stream",
          "name": "stdout",
          "text": [
            "✅ Libraries imported successfully!\n"
          ]
        },
        {
          "output_type": "display_data",
          "data": {
            "text/plain": [
              "<Figure size 640x480 with 1 Axes>"
            ],
            "image/png": "[encoded data removed]"
          },
          "metadata": {}
        }
      ]
    },
    {
      "cell_type": "markdown",
      "id": "a94c7b38",
      "metadata": {
        "id": "a94c7b38"
      },
      "source": [
        "## 2) Bayes' Theorem\n",
        "Bayes' Theorem lets us update prior beliefs given new evidence.\n",
        "We'll show:\n",
        "- Medical test example (rare disease)\n",
        "- Spam-word example (Naïve Bayes intuition)"
      ]
    },
    {
      "cell_type": "code",
      "execution_count": null,
      "id": "653d8719",
      "metadata": {
        "id": "653d8719"
      },
      "outputs": [],
      "source": [
        "# Medical test example (rare disease)\n",
        "P_disease = 0.001           # prior probability disease = 0.1%\n",
        "sensitivity = 0.99          # P(Pos | Disease)\n",
        "false_positive = 0.01       # P(Pos | NoDisease)\n",
        "P_not_disease = 1 - P_disease\n",
        "\n",
        "P_pos = sensitivity * P_disease + false_positive * P_not_disease\n",
        "P_disease_given_pos = (sensitivity * P_disease) / P_pos\n",
        "\n",
        "print(\"Medical test example (rare disease):\")\n",
        "print(f\"P(Disease) (prior) = {P_disease:.4f}\")\n",
        "print(f\"P(Pos | Disease) (sensitivity) = {sensitivity:.2f}\")\n",
        "print(f\"P(Pos | NoDisease) (false positive) = {false_positive:.2f}\")\n",
        "print(f\"P(Pos) = {P_pos:.4f}\")\n",
        "print(f\"P(Disease | Positive) = {P_disease_given_pos:.4f}  <-- Posterior probability\\n\")\n",
        "\n",
        "print(\"Explanation:\")\n",
        "print(\"Even though the test looks very accurate (99% sensitivity),\")\n",
        "print(\"because the disease is rare, a positive result still has a low posterior probability.\")\n",
        "print(\"This highlights the importance of the prior (base rate).\\n\")\n",
        "\n",
        "# Spam-word example (Naive-Bayes intuition)\n",
        "P_spam = 0.20\n",
        "P_notspam = 1 - P_spam\n",
        "P_offer_given_spam = 0.70\n",
        "P_offer_given_notspam = 0.10\n",
        "\n",
        "P_offer = P_offer_given_spam * P_spam + P_offer_given_notspam * P_notspam\n",
        "P_spam_given_offer = (P_offer_given_spam * P_spam) / P_offer\n",
        "\n",
        "print(\"Spam-word example (Naive Bayes intuition):\")\n",
        "print(f\"P(Spam) = {P_spam:.2f}, P(Offer|Spam) = {P_offer_given_spam:.2f}, P(Offer|NotSpam) = {P_offer_given_notspam:.2f}\")\n",
        "print(f\"P(Spam|Offer) = {P_spam_given_offer:.2f}  <-- Posterior probability using Bayes' theorem\")"
      ]
    },
    {
      "cell_type": "code",
      "source": [
        "# ============================================\n",
        "# 🧠 Bayes' Theorem - Simple Medical Test Example\n",
        "# ============================================\n",
        "# We use Bayes' Theorem to calculate:\n",
        "#    P(Disease | Positive Test)\n",
        "# i.e., \"If a person tests positive, what’s the chance\n",
        "#        they actually have the disease?\"\n",
        "\n",
        "# -----------------------------\n",
        "# Step 1️⃣: Define known probabilities\n",
        "# -----------------------------\n",
        "\n",
        "P_disease = 0.01                # 1% of people have the disease → P(Disease)\n",
        "P_pos_given_disease = 0.99      # 99% of sick people test positive → P(Pos | Disease)\n",
        "P_pos_given_no_disease = 0.01   # 1% of healthy people test positive (false alarm) → P(Pos | No Disease)\n",
        "P_no_disease = 1 - P_disease    # 99% of people do NOT have the disease → P(No Disease)\n",
        "\n",
        "# -----------------------------\n",
        "# Step 2️⃣: Find the total probability of testing positive\n",
        "# -----------------------------\n",
        "# P(Pos) = P(Pos | Disease)*P(Disease) + P(Pos | No Disease)*P(No Disease)\n",
        "# This combines both true positives and false positives.\n",
        "\n",
        "P_pos = (P_pos_given_disease * P_disease) + (P_pos_given_no_disease * P_no_disease)\n",
        "\n",
        "# -----------------------------\n",
        "# Step 3️⃣: Apply Bayes’ Theorem\n",
        "# -----------------------------\n",
        "# P(Disease | Positive) = [P(Pos | Disease) * P(Disease)] / P(Pos)\n",
        "# This gives the \"posterior probability\" — our updated belief\n",
        "# after seeing a positive test result.\n",
        "\n",
        "P_disease_given_pos = (P_pos_given_disease * P_disease) / P_pos\n",
        "\n",
        "# -----------------------------\n",
        "# Step 4️⃣: Display the result clearly\n",
        "# -----------------------------\n",
        "# Multiply by 100 to express the result as a percentage.\n",
        "# Even though the test is 99% accurate, the disease is rare (1%),\n",
        "# so many positive results are false alarms — final probability ~50%.\n",
        "\n",
        "print(f\"Probability you actually have the disease if you test positive: {P_disease_given_pos*100:.1f}%\")\n",
        "\n"
      ],
      "metadata": {
        "colab": {
          "base_uri": "https://localhost:8080/"
        },
        "id": "DkgfBJXMs6-t",
        "outputId": "fa3d6df2-8be0-4226-e53e-4e2c8f02d122"
      },
      "id": "DkgfBJXMs6-t",
      "execution_count": null,
      "outputs": [
        {
          "output_type": "stream",
          "name": "stdout",
          "text": [
            "Probability you actually have the disease if you test positive: 50.0%\n"
          ]
        }
      ]
    },
    {
      "cell_type": "code",
      "source": [
        "# Bayes' Theorem - Medical Test Example\n",
        "import math\n",
        "P_disease = 0.01\n",
        "P_pos_given_disease = 0.99\n",
        "P_pos_given_no_disease = 0.01\n",
        "P_no_disease = 1 - P_disease\n",
        "\n",
        "P_pos = (P_pos_given_disease * P_disease) + (P_pos_given_no_disease * P_no_disease)\n",
        "P_disease_given_pos = (P_pos_given_disease * P_disease) / P_pos\n",
        "\n",
        "print(f\"Probability you actually have the disease if you test positive: {P_disease_given_pos*100:.1f}%\")\n"
      ],
      "metadata": {
        "colab": {
          "base_uri": "https://localhost:8080/"
        },
        "id": "d5xRov9keypK",
        "outputId": "4890d872-9192-466d-fa17-b26ee0d99dab"
      },
      "id": "d5xRov9keypK",
      "execution_count": null,
      "outputs": [
        {
          "output_type": "stream",
          "name": "stdout",
          "text": [
            "Probability you actually have the disease if you test positive: 50.0%\n"
          ]
        }
      ]
    },
    {
      "cell_type": "code",
      "source": [
        "# ============================================\n",
        "# 🧠 Bayes' Theorem - Simple Medical Test Example\n",
        "# ============================================\n",
        "# Goal:\n",
        "#   Calculate the probability that a person actually has a disease,\n",
        "#   given they tested positive — P(Disease | Positive).\n",
        "# Formula:\n",
        "#   P(A|B) = [P(B|A) * P(A)] / P(B)\n",
        "# ============================================\n",
        "\n",
        "# -----------------------------\n",
        "# Step 1️⃣: Import necessary library\n",
        "# -----------------------------\n",
        "# We use 'math' just in case we need precise floating-point handling or rounding.\n",
        "import math\n",
        "\n",
        "# -----------------------------\n",
        "# Step 2️⃣: Define known probabilities\n",
        "# -----------------------------\n",
        "P_disease = 0.01                # 1% of people have the disease → P(Disease)\n",
        "P_pos_given_disease = 0.99      # 99% of sick people test positive → P(Pos | Disease)\n",
        "P_pos_given_no_disease = 0.01   # 1% of healthy people test positive (false alarm) → P(Pos | No Disease)\n",
        "P_no_disease = 1 - P_disease    # 99% of people do NOT have the disease → P(No Disease)\n",
        "\n",
        "# -----------------------------\n",
        "# Step 3️⃣: Calculate total probability of testing positive\n",
        "# -----------------------------\n",
        "# P(Pos) = P(Pos | Disease)*P(Disease) + P(Pos | No Disease)*P(No Disease)\n",
        "# It includes both:\n",
        "#   - True Positives (real cases detected)\n",
        "#   - False Positives (healthy people incorrectly flagged)\n",
        "P_pos = (P_pos_given_disease * P_disease) + (P_pos_given_no_disease * P_no_disease)\n",
        "\n",
        "# -----------------------------\n",
        "# Step 4️⃣: Apply Bayes’ Theorem to find P(Disease | Positive)\n",
        "# -----------------------------\n",
        "# P(Disease | Positive) = [P(Pos | Disease) * P(Disease)] / P(Pos)\n",
        "# This gives the updated (posterior) probability after seeing a positive result.\n",
        "P_disease_given_pos = (P_pos_given_disease * P_disease) / P_pos\n",
        "\n",
        "# -----------------------------\n",
        "# Step 5️⃣: Print the result clearly\n",
        "# -----------------------------\n",
        "# Multiply by 100 to convert probability to percentage.\n",
        "print(\"============================================\")\n",
        "print(\"       🩺  Medical Test Probability Result\")\n",
        "print(\"============================================\")\n",
        "print(f\"Probability of having the disease (prior): {P_disease*100:.1f}%\")\n",
        "print(f\"Probability of testing positive overall: {P_pos*100:.2f}%\")\n",
        "print(f\"Probability you actually have the disease if you test positive: {P_disease_given_pos*100:.1f}%\")\n",
        "print(\"============================================\")\n",
        "\n",
        "# Expected Output:\n",
        "# Probability you actually have the disease if you test positive: ≈ 50.0%\n"
      ],
      "metadata": {
        "colab": {
          "base_uri": "https://localhost:8080/"
        },
        "id": "RnsXrk7BeFiT",
        "outputId": "e88a9989-e1a6-4083-802a-3e0fd3aad08a"
      },
      "id": "RnsXrk7BeFiT",
      "execution_count": null,
      "outputs": [
        {
          "output_type": "stream",
          "name": "stdout",
          "text": [
            "============================================\n",
            "       🩺  Medical Test Probability Result\n",
            "============================================\n",
            "Probability of having the disease (prior): 1.0%\n",
            "Probability of testing positive overall: 1.98%\n",
            "Probability you actually have the disease if you test positive: 50.0%\n",
            "============================================\n"
          ]
        }
      ]
    },
    {
      "cell_type": "markdown",
      "id": "007b2c8b",
      "metadata": {
        "id": "007b2c8b"
      },
      "source": [
        "## 3) Hypothesis Testing\n",
        "Hypothesis testing is used to check whether observed differences are likely due to chance.\n",
        "Example: Compare delivery times before and after switching supplier.\n",
        "We will run a two-sample t-test (and show one-sided interpretation)."
      ]
    },
    {
      "cell_type": "code",
      "execution_count": null,
      "id": "cf9cd130",
      "metadata": {
        "id": "cf9cd130"
      },
      "outputs": [],
      "source": [
        "# Hypothesis Testing: delivery times before vs after (samples)\n",
        "np.random.seed(1)\n",
        "old_supplier = np.random.normal(loc=6.5, scale=1.2, size=40)\n",
        "new_supplier = np.random.normal(loc=5.8, scale=1.1, size=35)\n",
        "\n",
        "print(\"Sample summaries:\")\n",
        "print(f\"Old supplier sample mean = {old_supplier.mean():.3f}, n = {len(old_supplier)}\")\n",
        "print(f\"New supplier sample mean = {new_supplier.mean():.3f}, n = {len(new_supplier)}\")\n",
        "\n",
        "t_stat, p_val_two_sided = stats.ttest_ind(new_supplier, old_supplier, equal_var=False)\n",
        "one_sided_p = p_val_two_sided / 2 if t_stat < 0 else 1 - (p_val_two_sided / 2)\n",
        "\n",
        "print(\"\\nHypothesis setup:\")\n",
        "print(\"H0: mu_new = mu_old (no improvement)\")\n",
        "print(\"H1: mu_new < mu_old (new supplier has lower mean delivery time)\")\n",
        "print(f\"t-statistic = {t_stat:.4f}\")\n",
        "print(f\"two-sided p-value = {p_val_two_sided:.4f}\")\n",
        "print(f\"one-sided p-value (for H1: mu_new < mu_old) = {one_sided_p:.4f}\")\n",
        "\n",
        "alpha = 0.05\n",
        "if one_sided_p < alpha:\n",
        "    print(\"Decision: Reject H0 → evidence suggests new supplier has reduced delivery time.\")\n",
        "else:\n",
        "    print(\"Decision: Fail to reject H0 → not enough evidence to claim improvement.\")\n",
        "\n",
        "# Histograms\n",
        "plt.figure(figsize=(6,3.5))\n",
        "plt.hist(old_supplier, bins=12, density=True, alpha=0.6)\n",
        "plt.title(\"Old supplier delivery time distribution (histogram)\")\n",
        "plt.xlabel(\"Days\")\n",
        "plt.ylabel(\"Density\")\n",
        "plt.show()\n",
        "\n",
        "plt.figure(figsize=(6,3.5))\n",
        "plt.hist(new_supplier, bins=12, density=True, alpha=0.6)\n",
        "plt.title(\"New supplier delivery time distribution (histogram)\")\n",
        "plt.xlabel(\"Days\")\n",
        "plt.ylabel(\"Density\")\n",
        "plt.show()"
      ]
    },
    {
      "cell_type": "markdown",
      "id": "f67f43ea",
      "metadata": {
        "id": "f67f43ea"
      },
      "source": [
        "## 4) Confidence Interval\n",
        "We compute a 95% confidence interval for the new supplier mean (t-based approach).\n",
        "Interpretation: the interval contains plausible values for the true population mean with 95% confidence."
      ]
    },
    {
      "cell_type": "code",
      "execution_count": null,
      "id": "11ecc345",
      "metadata": {
        "id": "11ecc345"
      },
      "outputs": [],
      "source": [
        "data = new_supplier  # reuse sample from previous cell\n",
        "n = len(data)\n",
        "sample_mean = np.mean(data)\n",
        "sample_se = stats.sem(data)\n",
        "conf_level = 0.95\n",
        "df = n - 1\n",
        "t_crit = stats.t.ppf((1 + conf_level) / 2.0, df)\n",
        "margin_of_error = t_crit * sample_se\n",
        "ci_lower = sample_mean - margin_of_error\n",
        "ci_upper = sample_mean + margin_of_error\n",
        "\n",
        "print(f\"Sample mean = {sample_mean:.4f}, n = {n}\")\n",
        "print(f\"Standard error = {sample_se:.4f}\")\n",
        "print(f\"95% CI for the mean: [{ci_lower:.4f}, {ci_upper:.4f}]\")\n",
        "print(\"\\nInterpretation: We are 95% confident that the true population mean lies inside this interval.\")\n",
        "\n",
        "plt.figure(figsize=(6,2.5))\n",
        "plt.errorbar(1, sample_mean, yerr=margin_of_error, fmt='o')\n",
        "plt.xlim(0.5, 1.5)\n",
        "plt.xticks([])\n",
        "plt.title(\"95% Confidence Interval for the Mean (new supplier delivery time)\")\n",
        "plt.ylabel(\"Days\")\n",
        "plt.show()"
      ]
    },
    {
      "cell_type": "markdown",
      "source": [
        "| Concept                    | What It Means                                |\n",
        "| -------------------------- | -------------------------------------------- |\n",
        "| **Mean (8.2)**             | Average satisfaction in your sample          |\n",
        "| **Confidence Level (95%)** | How sure you are about the range             |\n",
        "| **Interval [7.9, 8.5]**    | The likely range of the true population mean |\n",
        "| **t-critical**             | Value that decides how wide the interval is  |\n",
        "| **Margin of Error**        | The amount we add/subtract from the mean     |\n",
        "\n",
        "\n",
        "\n",
        "Higher confidence (like 99%) = “I want to be very sure.”\n",
        "So, to be that sure, you must allow for a wider range (more room for uncertainty).\n",
        "\n",
        "Lower confidence (like 90%) = “I’m okay with being a bit less sure.”\n",
        "So you can afford a narrower range (more precise, but less certain)."
      ],
      "metadata": {
        "id": "d9BwwBUrEZcC"
      },
      "id": "d9BwwBUrEZcC"
    },
    {
      "cell_type": "code",
      "source": [
        "import numpy as np\n",
        "from scipy import stats\n",
        "\n",
        "mean = 8.2\n",
        "std_dev = 0.25\n",
        "n = 25\n",
        "\n",
        "for confidence in [0.90, 0.95, 0.99]:\n",
        "    alpha = 1 - confidence\n",
        "\n",
        "    #Value that decides how wide the interval is\n",
        "    t_critical = stats.t.ppf(1 - alpha/2, df=n-1)\n",
        "\n",
        "    print(f\"T Critical: {t_critical}\")\n",
        "    # MOE calculates how far (above and below) the sample mean your confidence interval should extend.\n",
        "    margin_of_error = t_critical * (std_dev / np.sqrt(n))\n",
        "\n",
        "    lower = mean - margin_of_error\n",
        "    upper = mean + margin_of_error\n",
        "    print(f\"{int(confidence*100)}% CI: [{lower:.2f}, {upper:.2f}] (width = {upper - lower:.3f})\")\n"
      ],
      "metadata": {
        "colab": {
          "base_uri": "https://localhost:8080/"
        },
        "id": "jJJqE_Pqcs-b",
        "outputId": "9e05ee27-79d3-4a6d-83d7-6e59ae4c81c9"
      },
      "id": "jJJqE_Pqcs-b",
      "execution_count": 8,
      "outputs": [
        {
          "output_type": "stream",
          "name": "stdout",
          "text": [
            "T Critical: 1.7108820799094275\n",
            "90% CI: [8.11, 8.29] (width = 0.171)\n",
            "T Critical: 2.0638985616280205\n",
            "95% CI: [8.10, 8.30] (width = 0.206)\n",
            "T Critical: 2.796939504772804\n",
            "99% CI: [8.06, 8.34] (width = 0.280)\n"
          ]
        }
      ]
    },
    {
      "cell_type": "code",
      "source": [
        "import numpy as np\n",
        "from scipy import stats\n",
        "\n",
        "mean = 8.2\n",
        "std_dev = 0.25\n",
        "n = 25\n",
        "\n",
        "for confidence in [0.90, 0.95, 0.99]:\n",
        "    alpha = 1 - confidence\n",
        "\n",
        "    #Value that decides how wide the interval is\n",
        "    t_critical = stats.t.ppf(1 - alpha/2, df=n-1)\n",
        "\n",
        "    print(f\"T Critical: {t_critical}\")\n",
        "    # MOE calculates how far (above and below) the sample mean your confidence interval should extend.\n",
        "    margin_of_error = t_critical * (std_dev / np.sqrt(n))\n",
        "\n",
        "    lower = mean - margin_of_error\n",
        "    upper = mean + margin_of_error\n",
        "    print(f\"{int(confidence*100)}% CI: [{lower:.2f}, {upper:.2f}] \")"
      ],
      "metadata": {
        "colab": {
          "base_uri": "https://localhost:8080/"
        },
        "id": "bMENmTrcvoZZ",
        "outputId": "384f6be3-4ed8-4fae-8995-e7a61b4e77f6"
      },
      "id": "bMENmTrcvoZZ",
      "execution_count": 1,
      "outputs": [
        {
          "output_type": "stream",
          "name": "stdout",
          "text": [
            "T Critical: 1.7108820799094275\n",
            "90% CI: [8.11, 8.29] \n",
            "T Critical: 2.0638985616280205\n",
            "95% CI: [8.10, 8.30] \n",
            "T Critical: 2.796939504772804\n",
            "99% CI: [8.06, 8.34] \n"
          ]
        }
      ]
    },
    {
      "cell_type": "code",
      "source": [
        "# ============================================\n",
        "# 📊 Confidence Interval - Customer Satisfaction Example\n",
        "# ============================================\n",
        "# Goal:\n",
        "#   Calculate a 95% Confidence Interval (CI) for the average customer satisfaction score.\n",
        "#   This helps us estimate where the true population mean likely lies, based on sample data.\n",
        "\n",
        "# Step 1️⃣: Import necessary libraries\n",
        "import numpy as np              # NumPy for numerical operations (mean, std, sqrt, etc.)\n",
        "from scipy import stats         # SciPy for statistical calculations (t-distribution)\n",
        "\n",
        "# Step 2️⃣: Create sample data (customer satisfaction scores on a 1–10 scale)\n",
        "# These are ratings given by 25 customers in a survey.\n",
        "scores = np.array([8.5, 7.9, 8.1, 8.3, 8.0, 8.2, 7.8, 8.4, 8.1, 8.3,\n",
        "                   7.9, 8.5, 8.0, 8.2, 8.1, 8.3, 8.4, 8.0, 7.8, 8.6,\n",
        "                   8.3, 8.2, 7.9, 8.4, 8.1])\n",
        "\n",
        "# Step 3️⃣: Basic statistical values\n",
        "n = len(scores)                 # Number of responses (sample size)\n",
        "mean = np.mean(scores)          # Average customer satisfaction (sample mean)\n",
        "std_dev = np.std(scores, ddof=1)  # Sample standard deviation (ddof=1 → use n−1)\n",
        "\n",
        "# Step 4️⃣: Define confidence level\n",
        "confidence = 0.95               # We want a 95% confidence interval\n",
        "alpha = 1 - confidence          # α (significance level) = 0.05 → 5% chance of being wrong\n",
        "\n",
        "# Step 5️⃣: Find the t-critical value\n",
        "# Since we have a small sample (<30) and don’t know population std, we use the t-distribution.\n",
        "# stats.t.ppf() finds the cutoff point (percent point function) for 95% confidence.\n",
        "t_critical = stats.t.ppf(1 - alpha/2, df=n-1)\n",
        "\n",
        "# Step 6️⃣: Calculate margin of error\n",
        "# Margin of Error = t_critical × (Standard Error)\n",
        "# Standard Error = std_dev / √n\n",
        "margin_of_error = t_critical * (std_dev / np.sqrt(n))\n",
        "\n",
        "# Step 7️⃣: Compute the lower and upper confidence limits\n",
        "lower_limit = mean - margin_of_error\n",
        "upper_limit = mean + margin_of_error\n",
        "\n",
        "# Step 8️⃣: Print the results neatly\n",
        "print(\"==========================================\")\n",
        "print(\"🧮 Customer Satisfaction Survey Results\")\n",
        "print(\"==========================================\")\n",
        "print(f\"Sample Size (n): {n}\")\n",
        "print(f\"Sample Mean (Average Satisfaction): {mean:.2f}\")\n",
        "print(f\"Standard Deviation: {std_dev:.2f}\")\n",
        "print(f\"t-critical (95% CI): {t_critical:.3f}\")\n",
        "print(\"------------------------------------------\")\n",
        "print(f\"95% Confidence Interval: [{lower_limit:.2f}, {upper_limit:.2f}]\")\n",
        "print(\"==========================================\")\n",
        "\n",
        "# Step 9️⃣: Interpretation in plain English\n",
        "print(f\"👉 Interpretation: If we repeat this survey many times, about 95% of such intervals\")\n",
        "print(f\"   will contain the true average customer satisfaction score.\")\n",
        "print(f\"   So we are 95% confident the true mean lies between {lower_limit:.2f} and {upper_limit:.2f}.\")\n"
      ],
      "metadata": {
        "colab": {
          "base_uri": "https://localhost:8080/"
        },
        "id": "qfTEuKuPAtLB",
        "outputId": "df8d3f88-0a38-4d84-923c-ff26e85a2d59"
      },
      "id": "qfTEuKuPAtLB",
      "execution_count": 5,
      "outputs": [
        {
          "output_type": "stream",
          "name": "stdout",
          "text": [
            "==========================================\n",
            "🧮 Customer Satisfaction Survey Results\n",
            "==========================================\n",
            "Sample Size (n): 25\n",
            "Sample Mean (Average Satisfaction): 8.17\n",
            "Standard Deviation: 0.23\n",
            "t-critical (95% CI): 2.064\n",
            "------------------------------------------\n",
            "95% Confidence Interval: [8.08, 8.27]\n",
            "==========================================\n",
            "👉 Interpretation: If we repeat this survey many times, about 95% of such intervals\n",
            "   will contain the true average customer satisfaction score.\n",
            "   So we are 95% confident the true mean lies between 8.08 and 8.27.\n"
          ]
        }
      ]
    },
    {
      "cell_type": "markdown",
      "id": "a0f4b334",
      "metadata": {
        "id": "a0f4b334"
      },
      "source": [
        "## 5) A/B Testing (Two-proportion z-test)\n",
        "We test whether conversion rate in Campaign B is higher than Campaign A using a pooled-proportion z-test.\n",
        "Hypotheses:\n",
        "- H0: p_B = p_A\n",
        "- H1: p_B > p_A (one-sided)\n",
        "\n",
        "--------\n",
        "\n",
        " This code performs an A/B test using a two-proportion z-test to compare the conversion rates of two campaigns, A and B.\n",
        "\n",
        "Here's a breakdown:\n",
        "\n",
        "Imports: It imports the math library for mathematical operations like square root, scipy.stats for statistical functions (specifically the normal distribution CDF), and matplotlib.pyplot for plotting.\n",
        "\n",
        "Data: It defines the number of users (n) and conversions (x) for both Campaign A and Campaign B.\n",
        "\n",
        "Calculate Conversion Rates: It calculates the conversion rate for each campaign by dividing the number of conversions by the number of users (p_A and p_B).\n",
        "Pooled Proportion: It calculates the pooled proportion (p_pool), which is the overall conversion rate across both campaigns combined. This is used in the standard error calculation under the null hypothesis (that there's no difference between the two proportions).\n",
        "\n",
        "Standard Error: It calculates the pooled standard error (se_pool), which measures the variability of the difference between the two proportions.\n",
        "Z-statistic: It calculates the z-statistic, which measures how many standard errors the observed difference in conversion rates (p_B - p_A) is away from zero (the expected difference under the null hypothesis).\n",
        "\n",
        "One-sided P-value: It calculates the one-sided p-value using the cumulative distribution function (CDF) of the standard normal distribution. A one-sided test is used because the hypothesis is specifically that Campaign B has a higher conversion rate than Campaign A (H1: p_B > p_A).\n",
        "\n",
        "Hypothesis Testing: It sets up the null hypothesis (H0: p_B = p_A) and the alternative hypothesis (H1: p_B > p_A).\n",
        "\n",
        "Decision: It compares the one-sided p-value to the significance level (alpha, set at 0.05).\n",
        "\n",
        "If the p-value is less than alpha, the result is statistically significant, and the null hypothesis is rejected, suggesting Campaign B is better.\n",
        "If the p-value is greater than or equal to alpha, there isn't enough evidence to reject the null hypothesis.\n",
        "\n",
        "Visualization: It creates a simple bar chart to visually compare the conversion rates of Campaign A and Campaign B.\n",
        "\n",
        "In summary, the code tests if the observed difference in conversion rates between Campaign B and Campaign A is statistically significant, providing evidence to support the claim that Campaign B has a higher conversion rate."
      ]
    },
    {
      "cell_type": "code",
      "execution_count": 5,
      "id": "e45d98bc",
      "metadata": {
        "id": "e45d98bc",
        "colab": {
          "base_uri": "https://localhost:8080/",
          "height": 470
        },
        "outputId": "501317f2-7a12-4e5e-ca10-3dbd0036306f"
      },
      "outputs": [
        {
          "output_type": "stream",
          "name": "stdout",
          "text": [
            "Campaign A: conversions = 250/5000 = 0.0500\n",
            "Campaign B: conversions = 360/4800 = 0.0750\n",
            "\n",
            "Hypothesis setup:\n",
            "H0: p_B = p_A (no difference in conversion rates)\n",
            "H1: p_B > p_A (variant B has higher conversion)\n",
            "z-statistic = 5.1208\n",
            "one-sided p-value = 0.000000\n",
            "Decision: Reject H0 → Campaign B significantly outperforms A (higher conversion).\n"
          ]
        },
        {
          "output_type": "display_data",
          "data": {
            "text/plain": [
              "<Figure size 500x300 with 1 Axes>"
            ],
            "image/png": "[encoded data removed]"
          },
          "metadata": {}
        }
      ],
      "source": [
        "import math  # Import the math module\n",
        "from scipy import stats # Import stats from scipy\n",
        "import matplotlib.pyplot as plt # Import matplotlib for plotting\n",
        "\n",
        "\n",
        "n_A = 5000\n",
        "x_A = 250   # conversion rate = 250/5000 = 0.05 (5%)\n",
        "n_B = 4800\n",
        "x_B = 360   # conversion rate = 360/4800 = 0.075 (7.5%)\n",
        "\n",
        "p_A = x_A / n_A\n",
        "p_B = x_B / n_B\n",
        "print(f\"Campaign A: conversions = {x_A}/{n_A} = {p_A:.4f}\")\n",
        "print(f\"Campaign B: conversions = {x_B}/{n_B} = {p_B:.4f}\")\n",
        "\n",
        "p_pool = (x_A + x_B) / (n_A + n_B)\n",
        "se_pool = math.sqrt(p_pool * (1 - p_pool) * (1 / n_A + 1 / n_B))\n",
        "z_stat = (p_B - p_A) / se_pool\n",
        "p_value_one_sided = 1 - stats.norm.cdf(z_stat)\n",
        "\n",
        "print(\"\\nHypothesis setup:\")\n",
        "print(\"H0: p_B = p_A (no difference in conversion rates)\")\n",
        "print(\"H1: p_B > p_A (variant B has higher conversion)\")\n",
        "print(f\"z-statistic = {z_stat:.4f}\")\n",
        "print(f\"one-sided p-value = {p_value_one_sided:.6f}\")\n",
        "\n",
        "alpha = 0.05\n",
        "if p_value_one_sided < alpha:\n",
        "    print(\"Decision: Reject H0 → Campaign B significantly outperforms A (higher conversion).\" )\n",
        "else:\n",
        "    print(\"Decision: Fail to reject H0 → Not enough evidence to claim B is better.\")\n",
        "\n",
        "plt.figure(figsize=(5,3))\n",
        "plt.bar(['A', 'B'], [p_A, p_B])\n",
        "plt.title(\"Conversion Rates: A vs B\")\n",
        "plt.ylabel(\"Conversion rate\")\n",
        "plt.ylim(0, max(p_A, p_B) * 1.4)\n",
        "plt.show()"
      ]
    },
    {
      "cell_type": "markdown",
      "id": "9b97610d",
      "metadata": {
        "id": "9b97610d"
      },
      "source": [
        "---\n",
        "**End of notebook.**\n",
        "\n",
        "This notebook demonstrates practical, simple implementations of:\n",
        "- Probability Distributions (discrete + continuous)\n",
        "- Bayes' Theorem (medical + spam examples)\n",
        "- Hypothesis Testing (two-sample t-test)\n",
        "- Confidence Interval (t-based 95% CI)\n",
        "- A/B Testing (two-proportion z-test)\n",
        "\n",
        "You can edit parameters and re-run cells in Colab for classroom exercises.\n"
      ]
    }
  ],
  "metadata": {
    "colab": {
      "provenance": [],
      "include_colab_link": true
    },
    "language_info": {
      "name": "python"
    },
    "kernelspec": {
      "name": "python3",
      "display_name": "Python 3"
    }
  },
  "nbformat": 4,
  "nbformat_minor": 5
}